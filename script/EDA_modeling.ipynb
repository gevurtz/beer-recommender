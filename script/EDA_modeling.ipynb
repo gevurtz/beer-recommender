{
 "cells": [
  {
   "cell_type": "markdown",
   "metadata": {},
   "source": [
    "# Beer Recommendation System EDA and Modeling"
   ]
  },
  {
   "cell_type": "code",
   "execution_count": 1,
   "metadata": {
    "ExecuteTime": {
     "end_time": "2016-04-27T15:13:35.406750",
     "start_time": "2016-04-27T15:13:31.875432"
    },
    "collapsed": false
   },
   "outputs": [],
   "source": [
    "import pandas as pd\n",
    "import numpy as np\n",
    "import pylab as pl\n",
    "import matplotlib.pyplot as plt\n",
    "import warnings\n",
    "warnings.filterwarnings('ignore')\n",
    "% matplotlib inline"
   ]
  },
  {
   "cell_type": "code",
   "execution_count": 2,
   "metadata": {
    "ExecuteTime": {
     "end_time": "2016-04-27T15:13:44.744477",
     "start_time": "2016-04-27T15:13:40.622783"
    },
    "collapsed": false
   },
   "outputs": [
    {
     "data": {
      "text/plain": [
       "1586614"
      ]
     },
     "execution_count": 2,
     "metadata": {},
     "output_type": "execute_result"
    }
   ],
   "source": [
    "#read data to pandas dataframe\n",
    "df = pd.read_csv(\"/Users/Gevurtz/Downloads/beer_reviews/beer_reviews.csv\")\n",
    "len(df)"
   ]
  },
  {
   "cell_type": "code",
   "execution_count": 3,
   "metadata": {
    "ExecuteTime": {
     "end_time": "2016-04-27T15:13:46.726544",
     "start_time": "2016-04-27T15:13:46.652947"
    },
    "collapsed": false
   },
   "outputs": [
    {
     "data": {
      "text/html": [
       "<div>\n",
       "<table border=\"1\" class=\"dataframe\">\n",
       "  <thead>\n",
       "    <tr style=\"text-align: right;\">\n",
       "      <th></th>\n",
       "      <th>brewery_id</th>\n",
       "      <th>brewery_name</th>\n",
       "      <th>review_time</th>\n",
       "      <th>review_overall</th>\n",
       "      <th>review_aroma</th>\n",
       "      <th>review_appearance</th>\n",
       "      <th>review_profilename</th>\n",
       "      <th>beer_style</th>\n",
       "      <th>review_palate</th>\n",
       "      <th>review_taste</th>\n",
       "      <th>beer_name</th>\n",
       "      <th>beer_abv</th>\n",
       "      <th>beer_beerid</th>\n",
       "    </tr>\n",
       "  </thead>\n",
       "  <tbody>\n",
       "    <tr>\n",
       "      <th>0</th>\n",
       "      <td>10325</td>\n",
       "      <td>Vecchio Birraio</td>\n",
       "      <td>1234817823</td>\n",
       "      <td>1.5</td>\n",
       "      <td>2.0</td>\n",
       "      <td>2.5</td>\n",
       "      <td>stcules</td>\n",
       "      <td>Hefeweizen</td>\n",
       "      <td>1.5</td>\n",
       "      <td>1.5</td>\n",
       "      <td>Sausa Weizen</td>\n",
       "      <td>5.0</td>\n",
       "      <td>47986</td>\n",
       "    </tr>\n",
       "    <tr>\n",
       "      <th>1</th>\n",
       "      <td>10325</td>\n",
       "      <td>Vecchio Birraio</td>\n",
       "      <td>1235915097</td>\n",
       "      <td>3.0</td>\n",
       "      <td>2.5</td>\n",
       "      <td>3.0</td>\n",
       "      <td>stcules</td>\n",
       "      <td>English Strong Ale</td>\n",
       "      <td>3.0</td>\n",
       "      <td>3.0</td>\n",
       "      <td>Red Moon</td>\n",
       "      <td>6.2</td>\n",
       "      <td>48213</td>\n",
       "    </tr>\n",
       "    <tr>\n",
       "      <th>2</th>\n",
       "      <td>10325</td>\n",
       "      <td>Vecchio Birraio</td>\n",
       "      <td>1235916604</td>\n",
       "      <td>3.0</td>\n",
       "      <td>2.5</td>\n",
       "      <td>3.0</td>\n",
       "      <td>stcules</td>\n",
       "      <td>Foreign / Export Stout</td>\n",
       "      <td>3.0</td>\n",
       "      <td>3.0</td>\n",
       "      <td>Black Horse Black Beer</td>\n",
       "      <td>6.5</td>\n",
       "      <td>48215</td>\n",
       "    </tr>\n",
       "    <tr>\n",
       "      <th>3</th>\n",
       "      <td>10325</td>\n",
       "      <td>Vecchio Birraio</td>\n",
       "      <td>1234725145</td>\n",
       "      <td>3.0</td>\n",
       "      <td>3.0</td>\n",
       "      <td>3.5</td>\n",
       "      <td>stcules</td>\n",
       "      <td>German Pilsener</td>\n",
       "      <td>2.5</td>\n",
       "      <td>3.0</td>\n",
       "      <td>Sausa Pils</td>\n",
       "      <td>5.0</td>\n",
       "      <td>47969</td>\n",
       "    </tr>\n",
       "    <tr>\n",
       "      <th>4</th>\n",
       "      <td>1075</td>\n",
       "      <td>Caldera Brewing Company</td>\n",
       "      <td>1293735206</td>\n",
       "      <td>4.0</td>\n",
       "      <td>4.5</td>\n",
       "      <td>4.0</td>\n",
       "      <td>johnmichaelsen</td>\n",
       "      <td>American Double / Imperial IPA</td>\n",
       "      <td>4.0</td>\n",
       "      <td>4.5</td>\n",
       "      <td>Cauldron DIPA</td>\n",
       "      <td>7.7</td>\n",
       "      <td>64883</td>\n",
       "    </tr>\n",
       "  </tbody>\n",
       "</table>\n",
       "</div>"
      ],
      "text/plain": [
       "   brewery_id             brewery_name  review_time  review_overall  \\\n",
       "0       10325          Vecchio Birraio   1234817823             1.5   \n",
       "1       10325          Vecchio Birraio   1235915097             3.0   \n",
       "2       10325          Vecchio Birraio   1235916604             3.0   \n",
       "3       10325          Vecchio Birraio   1234725145             3.0   \n",
       "4        1075  Caldera Brewing Company   1293735206             4.0   \n",
       "\n",
       "   review_aroma  review_appearance review_profilename  \\\n",
       "0           2.0                2.5            stcules   \n",
       "1           2.5                3.0            stcules   \n",
       "2           2.5                3.0            stcules   \n",
       "3           3.0                3.5            stcules   \n",
       "4           4.5                4.0     johnmichaelsen   \n",
       "\n",
       "                       beer_style  review_palate  review_taste  \\\n",
       "0                      Hefeweizen            1.5           1.5   \n",
       "1              English Strong Ale            3.0           3.0   \n",
       "2          Foreign / Export Stout            3.0           3.0   \n",
       "3                 German Pilsener            2.5           3.0   \n",
       "4  American Double / Imperial IPA            4.0           4.5   \n",
       "\n",
       "                beer_name  beer_abv  beer_beerid  \n",
       "0            Sausa Weizen       5.0        47986  \n",
       "1                Red Moon       6.2        48213  \n",
       "2  Black Horse Black Beer       6.5        48215  \n",
       "3              Sausa Pils       5.0        47969  \n",
       "4           Cauldron DIPA       7.7        64883  "
      ]
     },
     "execution_count": 3,
     "metadata": {},
     "output_type": "execute_result"
    }
   ],
   "source": [
    "df.head()"
   ]
  },
  {
   "cell_type": "code",
   "execution_count": 4,
   "metadata": {
    "ExecuteTime": {
     "end_time": "2016-04-27T15:13:52.314651",
     "start_time": "2016-04-27T15:13:52.276591"
    },
    "collapsed": false
   },
   "outputs": [
    {
     "data": {
      "text/plain": [
       "3.8155808533140387"
      ]
     },
     "execution_count": 4,
     "metadata": {},
     "output_type": "execute_result"
    }
   ],
   "source": [
    "# Calculate mean review\n",
    "df.review_overall.mean()"
   ]
  },
  {
   "cell_type": "code",
   "execution_count": 5,
   "metadata": {
    "ExecuteTime": {
     "end_time": "2016-04-27T15:13:54.789916",
     "start_time": "2016-04-27T15:13:54.741873"
    },
    "collapsed": false
   },
   "outputs": [
    {
     "data": {
      "text/plain": [
       "66055"
      ]
     },
     "execution_count": 5,
     "metadata": {},
     "output_type": "execute_result"
    }
   ],
   "source": [
    "# find number of unique beers\n",
    "len(df.beer_beerid.unique())"
   ]
  },
  {
   "cell_type": "code",
   "execution_count": 6,
   "metadata": {
    "ExecuteTime": {
     "end_time": "2016-04-27T15:13:56.781222",
     "start_time": "2016-04-27T15:13:56.613641"
    },
    "collapsed": false
   },
   "outputs": [
    {
     "data": {
      "text/plain": [
       "104"
      ]
     },
     "execution_count": 6,
     "metadata": {},
     "output_type": "execute_result"
    }
   ],
   "source": [
    "# of unique styles\n",
    "len(df.beer_style.unique())"
   ]
  },
  {
   "cell_type": "code",
   "execution_count": 7,
   "metadata": {
    "ExecuteTime": {
     "end_time": "2016-04-27T15:13:59.345893",
     "start_time": "2016-04-27T15:13:59.211638"
    },
    "collapsed": false
   },
   "outputs": [
    {
     "data": {
      "text/plain": [
       "5743"
      ]
     },
     "execution_count": 7,
     "metadata": {},
     "output_type": "execute_result"
    }
   ],
   "source": [
    "# unique breweries\n",
    "len(df.brewery_name.unique())"
   ]
  },
  {
   "cell_type": "code",
   "execution_count": 8,
   "metadata": {
    "ExecuteTime": {
     "end_time": "2016-04-27T15:14:37.800435",
     "start_time": "2016-04-27T15:14:37.524134"
    },
    "collapsed": false
   },
   "outputs": [
    {
     "data": {
      "text/plain": [
       "33388"
      ]
     },
     "execution_count": 8,
     "metadata": {},
     "output_type": "execute_result"
    }
   ],
   "source": [
    "#unique users\n",
    "len(df.review_profilename.unique())"
   ]
  },
  {
   "cell_type": "code",
   "execution_count": 9,
   "metadata": {
    "ExecuteTime": {
     "end_time": "2016-04-27T15:14:42.624818",
     "start_time": "2016-04-27T15:14:42.267743"
    },
    "collapsed": false
   },
   "outputs": [
    {
     "data": {
      "image/png": "[encoded data removed]",
      "text/plain": [
       "<matplotlib.figure.Figure at 0x1144e1ad0>"
      ]
     },
     "metadata": {},
     "output_type": "display_data"
    }
   ],
   "source": [
    "# histogram of rating distributions\n",
    "df.review_overall.hist(bins=10)\n",
    "plt.title('Rating Distribution', size=16)\n",
    "plt.show()"
   ]
  },
  {
   "cell_type": "code",
   "execution_count": 10,
   "metadata": {
    "ExecuteTime": {
     "end_time": "2016-04-27T15:14:45.715082",
     "start_time": "2016-04-27T15:14:45.362872"
    },
    "collapsed": false
   },
   "outputs": [
    {
     "data": {
      "image/png": "[encoded data removed]",
      "text/plain": [
       "<matplotlib.figure.Figure at 0x1144e1510>"
      ]
     },
     "metadata": {},
     "output_type": "display_data"
    }
   ],
   "source": [
    "# histogram of aroma ratings\n",
    "df.review_aroma.hist(bins=10)\n",
    "plt.show()"
   ]
  },
  {
   "cell_type": "code",
   "execution_count": 11,
   "metadata": {
    "ExecuteTime": {
     "end_time": "2016-04-27T15:14:48.159013",
     "start_time": "2016-04-27T15:14:47.841891"
    },
    "collapsed": false
   },
   "outputs": [
    {
     "data": {
      "image/png": "[encoded data removed]",
      "text/plain": [
       "<matplotlib.figure.Figure at 0x106cae190>"
      ]
     },
     "metadata": {},
     "output_type": "display_data"
    }
   ],
   "source": [
    "# histogram of appearance ratings\n",
    "df.review_appearance.hist(bins=10)\n",
    "plt.show()"
   ]
  },
  {
   "cell_type": "code",
   "execution_count": 12,
   "metadata": {
    "ExecuteTime": {
     "end_time": "2016-04-27T15:14:49.931466",
     "start_time": "2016-04-27T15:14:49.599305"
    },
    "collapsed": false
   },
   "outputs": [
    {
     "data": {
      "image/png": "[encoded data removed]",
      "text/plain": [
       "<matplotlib.figure.Figure at 0x1073b65d0>"
      ]
     },
     "metadata": {},
     "output_type": "display_data"
    }
   ],
   "source": [
    "df.review_palate.hist(bins=10)\n",
    "plt.show()"
   ]
  },
  {
   "cell_type": "code",
   "execution_count": 13,
   "metadata": {
    "ExecuteTime": {
     "end_time": "2016-04-27T15:14:52.184850",
     "start_time": "2016-04-27T15:14:51.866181"
    },
    "collapsed": false
   },
   "outputs": [
    {
     "data": {
      "image/png": "[encoded data removed]",
      "text/plain": [
       "<matplotlib.figure.Figure at 0x10750b390>"
      ]
     },
     "metadata": {},
     "output_type": "display_data"
    }
   ],
   "source": [
    "df.review_taste.hist(bins=10)\n",
    "plt.show()"
   ]
  },
  {
   "cell_type": "code",
   "execution_count": 14,
   "metadata": {
    "ExecuteTime": {
     "end_time": "2016-04-27T15:14:58.046335",
     "start_time": "2016-04-27T15:14:57.552577"
    },
    "collapsed": false
   },
   "outputs": [],
   "source": [
    "# count number of reviews by each user\n",
    "user_count = df['review_profilename'].groupby(df['review_profilename']).count()"
   ]
  },
  {
   "cell_type": "code",
   "execution_count": 15,
   "metadata": {
    "ExecuteTime": {
     "end_time": "2016-04-27T15:15:00.761032",
     "start_time": "2016-04-27T15:15:00.728597"
    },
    "collapsed": false
   },
   "outputs": [
    {
     "data": {
      "text/plain": [
       "review_profilename\n",
       "northyorksammy    5817\n",
       "BuckeyeNation     4661\n",
       "mikesgroove       4617\n",
       "Thorpe429         3518\n",
       "womencantsail     3497\n",
       "NeroFiddled       3488\n",
       "ChainGangGuy      3471\n",
       "brentk56          3357\n",
       "Phyl21ca          3179\n",
       "WesWes            3168\n",
       "Name: review_profilename, dtype: int64"
      ]
     },
     "execution_count": 15,
     "metadata": {},
     "output_type": "execute_result"
    }
   ],
   "source": [
    "# find top ten reviewer\n",
    "user_count.order(ascending=False).head(10)"
   ]
  },
  {
   "cell_type": "code",
   "execution_count": 16,
   "metadata": {
    "ExecuteTime": {
     "end_time": "2016-04-27T15:15:09.971873",
     "start_time": "2016-04-27T15:15:09.946873"
    },
    "collapsed": false
   },
   "outputs": [],
   "source": [
    "df_count = pd.DataFrame(user_count)"
   ]
  },
  {
   "cell_type": "code",
   "execution_count": 18,
   "metadata": {
    "ExecuteTime": {
     "end_time": "2016-04-27T15:16:01.728733",
     "start_time": "2016-04-27T15:16:01.297666"
    },
    "collapsed": false
   },
   "outputs": [
    {
     "data": {
      "text/plain": [
       "<matplotlib.figure.Figure at 0x107bfea50>"
      ]
     },
     "metadata": {},
     "output_type": "display_data"
    },
    {
     "data": {
      "image/png": "[encoded data removed]",
      "text/plain": [
       "<matplotlib.figure.Figure at 0x10791a6d0>"
      ]
     },
     "metadata": {},
     "output_type": "display_data"
    },
    {
     "name": "stdout",
     "output_type": "stream",
     "text": [
      "Total users:                   33387\n",
      "Users with one review:         10443\n",
      "Users with 1-5 reviews:        19821\n",
      "Users with 5 or more reviews:  14811\n"
     ]
    }
   ],
   "source": [
    "# distribution of reviews by user\n",
    "plt.figure(figsize=(10,10))\n",
    "df_count[(df_count.iloc[:,0] < 100)].hist(bins = 50)\n",
    "plt.title('Distribution of User Review Count by User', fontsize=14 )\n",
    "plt.show()\n",
    "print 'Total users:                  ', len(df_count)\n",
    "print 'Users with one review:        ', len(df_count[(df_count.iloc[:,0] == 1)])\n",
    "print 'Users with 1-5 reviews:       ', len(df_count[(df_count.iloc[:,0] <= 5)])\n",
    "print 'Users with 5 or more reviews: ', len(df_count[(df_count.iloc[:,0] >= 5)])"
   ]
  },
  {
   "cell_type": "code",
   "execution_count": 19,
   "metadata": {
    "ExecuteTime": {
     "end_time": "2016-04-27T15:16:07.691798",
     "start_time": "2016-04-27T15:16:07.338930"
    },
    "collapsed": false
   },
   "outputs": [
    {
     "data": {
      "image/png": "[encoded data removed]",
      "text/plain": [
       "<matplotlib.figure.Figure at 0x10750bb10>"
      ]
     },
     "metadata": {},
     "output_type": "display_data"
    },
    {
     "name": "stdout",
     "output_type": "stream",
     "text": [
      "users with > 40 reviews: 5281\n"
     ]
    }
   ],
   "source": [
    "plt.figure(figsize=(10, 10))\n",
    "plt.boxplot(df_count.iloc[:,0])\n",
    "plt.ylim(0,50)\n",
    "plt.show()\n",
    "print 'users with > 40 reviews:', len(df_count[(df_count.iloc[:,0] > 40)])"
   ]
  },
  {
   "cell_type": "markdown",
   "metadata": {
    "ExecuteTime": {
     "end_time": "2016-04-20T10:25:40.579720",
     "start_time": "2016-04-20T10:25:40.526132"
    }
   },
   "source": [
    "### Regression Analysis of sub reviews against overall review"
   ]
  },
  {
   "cell_type": "code",
   "execution_count": 174,
   "metadata": {
    "ExecuteTime": {
     "end_time": "2016-04-26T21:55:01.469795",
     "start_time": "2016-04-26T21:55:01.229968"
    },
    "collapsed": true
   },
   "outputs": [],
   "source": [
    "from sklearn.linear_model import LinearRegression"
   ]
  },
  {
   "cell_type": "code",
   "execution_count": 175,
   "metadata": {
    "ExecuteTime": {
     "end_time": "2016-04-26T21:55:03.902822",
     "start_time": "2016-04-26T21:55:03.853706"
    },
    "collapsed": true
   },
   "outputs": [],
   "source": [
    "mod = LinearRegression()"
   ]
  },
  {
   "cell_type": "code",
   "execution_count": 176,
   "metadata": {
    "ExecuteTime": {
     "end_time": "2016-04-26T21:55:28.155238",
     "start_time": "2016-04-26T21:55:27.964161"
    },
    "collapsed": false
   },
   "outputs": [],
   "source": [
    "userxreviews = df[['review_profilename','review_overall', 'review_aroma', 'review_appearance', 'review_palate', 'review_taste']]"
   ]
  },
  {
   "cell_type": "code",
   "execution_count": 178,
   "metadata": {
    "ExecuteTime": {
     "end_time": "2016-04-26T21:55:55.359003",
     "start_time": "2016-04-26T21:55:55.062577"
    },
    "collapsed": false
   },
   "outputs": [],
   "source": [
    "X = df[['review_aroma', 'review_appearance', 'review_palate', 'review_taste']].astype(float)\n",
    "y = df[['review_overall']].astype(float)"
   ]
  },
  {
   "cell_type": "code",
   "execution_count": 179,
   "metadata": {
    "ExecuteTime": {
     "end_time": "2016-04-26T21:55:57.910846",
     "start_time": "2016-04-26T21:55:57.493807"
    },
    "collapsed": false
   },
   "outputs": [
    {
     "data": {
      "text/plain": [
       "LinearRegression(copy_X=True, fit_intercept=True, n_jobs=1, normalize=False)"
      ]
     },
     "execution_count": 179,
     "metadata": {},
     "output_type": "execute_result"
    }
   ],
   "source": [
    "mod.fit(X,y)"
   ]
  },
  {
   "cell_type": "code",
   "execution_count": 180,
   "metadata": {
    "ExecuteTime": {
     "end_time": "2016-04-26T21:56:00.521537",
     "start_time": "2016-04-26T21:56:00.454584"
    },
    "collapsed": false
   },
   "outputs": [
    {
     "data": {
      "text/plain": [
       "array([[ 0.04780922,  0.03589102,  0.25847415,  0.55152957]])"
      ]
     },
     "execution_count": 180,
     "metadata": {},
     "output_type": "execute_result"
    }
   ],
   "source": [
    "mod.coef_"
   ]
  },
  {
   "cell_type": "code",
   "execution_count": 195,
   "metadata": {
    "ExecuteTime": {
     "end_time": "2016-04-26T22:10:33.847952",
     "start_time": "2016-04-26T22:10:33.353692"
    },
    "collapsed": false
   },
   "outputs": [],
   "source": [
    "# Regression Model with Stats Models\n",
    "import statsmodels.api as sm"
   ]
  },
  {
   "cell_type": "code",
   "execution_count": 182,
   "metadata": {
    "ExecuteTime": {
     "end_time": "2016-04-26T21:56:43.058508",
     "start_time": "2016-04-26T21:56:42.900769"
    },
    "collapsed": true
   },
   "outputs": [],
   "source": [
    "X = sm.add_constant(X)"
   ]
  },
  {
   "cell_type": "code",
   "execution_count": 184,
   "metadata": {
    "ExecuteTime": {
     "end_time": "2016-04-26T21:56:50.440447",
     "start_time": "2016-04-26T21:56:50.260377"
    },
    "collapsed": false
   },
   "outputs": [],
   "source": [
    "mod = sm.OLS(y,X)"
   ]
  },
  {
   "cell_type": "code",
   "execution_count": 185,
   "metadata": {
    "ExecuteTime": {
     "end_time": "2016-04-26T21:56:53.464324",
     "start_time": "2016-04-26T21:56:52.771426"
    },
    "collapsed": false
   },
   "outputs": [],
   "source": [
    "results = mod.fit()"
   ]
  },
  {
   "cell_type": "code",
   "execution_count": 186,
   "metadata": {
    "ExecuteTime": {
     "end_time": "2016-04-26T21:56:55.511950",
     "start_time": "2016-04-26T21:56:55.052562"
    },
    "collapsed": false
   },
   "outputs": [
    {
     "name": "stdout",
     "output_type": "stream",
     "text": [
      "                            OLS Regression Results                            \n",
      "==============================================================================\n",
      "Dep. Variable:         review_overall   R-squared:                       0.658\n",
      "Model:                            OLS   Adj. R-squared:                  0.658\n",
      "Method:                 Least Squares   F-statistic:                 7.636e+05\n",
      "Date:                Tue, 26 Apr 2016   Prob (F-statistic):               0.00\n",
      "Time:                        21:56:55   Log-Likelihood:            -8.7999e+05\n",
      "No. Observations:             1586614   AIC:                         1.760e+06\n",
      "Df Residuals:                 1586609   BIC:                         1.760e+06\n",
      "Df Model:                           4                                         \n",
      "Covariance Type:            nonrobust                                         \n",
      "=====================================================================================\n",
      "                        coef    std err          t      P>|t|      [95.0% Conf. Int.]\n",
      "-------------------------------------------------------------------------------------\n",
      "const                 0.4396      0.002    190.949      0.000         0.435     0.444\n",
      "review_aroma          0.0478      0.001     66.089      0.000         0.046     0.049\n",
      "review_appearance     0.0359      0.001     51.287      0.000         0.035     0.037\n",
      "review_palate         0.2585      0.001    340.143      0.000         0.257     0.260\n",
      "review_taste          0.5515      0.001    709.782      0.000         0.550     0.553\n",
      "==============================================================================\n",
      "Omnibus:                    80797.422   Durbin-Watson:                   1.794\n",
      "Prob(Omnibus):                  0.000   Jarque-Bera (JB):           306869.451\n",
      "Skew:                          -0.074   Prob(JB):                         0.00\n",
      "Kurtosis:                       5.149   Cond. No.                         53.7\n",
      "==============================================================================\n",
      "\n",
      "Warnings:\n",
      "[1] Standard Errors assume that the covariance matrix of the errors is correctly specified.\n"
     ]
    }
   ],
   "source": [
    "print results.summary()"
   ]
  },
  {
   "cell_type": "markdown",
   "metadata": {
    "ExecuteTime": {
     "end_time": "2016-04-21T13:47:58.869647",
     "start_time": "2016-04-21T13:47:58.779944"
    },
    "collapsed": false
   },
   "source": [
    "-> It appears that taste is the strongest driver of positive user reviews, while aroma and appearence have little effect."
   ]
  },
  {
   "cell_type": "markdown",
   "metadata": {},
   "source": [
    "## GRAPHLAB MODELS"
   ]
  },
  {
   "cell_type": "code",
   "execution_count": 192,
   "metadata": {
    "ExecuteTime": {
     "end_time": "2016-04-26T22:05:47.041446",
     "start_time": "2016-04-26T22:05:46.651723"
    },
    "collapsed": true
   },
   "outputs": [],
   "source": [
    "import graphlab as gl"
   ]
  },
  {
   "cell_type": "markdown",
   "metadata": {},
   "source": [
    "### Clean Data for Models"
   ]
  },
  {
   "cell_type": "code",
   "execution_count": 197,
   "metadata": {
    "ExecuteTime": {
     "end_time": "2016-04-26T22:13:00.136396",
     "start_time": "2016-04-26T22:12:59.389349"
    },
    "collapsed": false
   },
   "outputs": [
    {
     "name": "stdout",
     "output_type": "stream",
     "text": [
      "<class 'pandas.core.frame.DataFrame'>\n",
      "Int64Index: 1586614 entries, 0 to 1586613\n",
      "Data columns (total 13 columns):\n",
      "brewery_id            1586614 non-null int64\n",
      "brewery_name          1586599 non-null object\n",
      "review_time           1586614 non-null int64\n",
      "review_overall        1586614 non-null float64\n",
      "review_aroma          1586614 non-null float64\n",
      "review_appearance     1586614 non-null float64\n",
      "review_profilename    1586266 non-null object\n",
      "beer_style            1586614 non-null object\n",
      "review_palate         1586614 non-null float64\n",
      "review_taste          1586614 non-null float64\n",
      "beer_name             1586614 non-null object\n",
      "beer_abv              1518829 non-null float64\n",
      "beer_beerid           1586614 non-null int64\n",
      "dtypes: float64(6), int64(3), object(4)\n",
      "memory usage: 169.5+ MB\n",
      "___________________________\n",
      "It looks like some beers are missing alcohol by volume data\n"
     ]
    }
   ],
   "source": [
    "df.info()\n",
    "print'___________________________'\n",
    "print 'It looks like some beers are missing alcohol by volume data'"
   ]
  },
  {
   "cell_type": "code",
   "execution_count": 198,
   "metadata": {
    "ExecuteTime": {
     "end_time": "2016-04-26T22:13:46.792631",
     "start_time": "2016-04-26T22:13:46.638872"
    },
    "collapsed": false
   },
   "outputs": [
    {
     "name": "stdout",
     "output_type": "stream",
     "text": [
      "NAs in AVB: 67785\n"
     ]
    }
   ],
   "source": [
    "# Some beers are missing data on Alcohol by Volume\n",
    "print 'NAs in AVB:', len(df[df.beer_abv.isnull() == True])"
   ]
  },
  {
   "cell_type": "code",
   "execution_count": 202,
   "metadata": {
    "ExecuteTime": {
     "end_time": "2016-04-26T22:18:04.463153",
     "start_time": "2016-04-26T22:18:04.382982"
    },
    "collapsed": false
   },
   "outputs": [
    {
     "name": "stdout",
     "output_type": "stream",
     "text": [
      "Mean ABV:  7.04238675321\n",
      "...craft beers are getting pretty strong.\n"
     ]
    }
   ],
   "source": [
    "# fill missing ABV data with the mean ABV\n",
    "print 'Mean ABV: ', df.beer_abv.mean()\n",
    "print '...craft beers are getting pretty strong.'\n",
    "df['beer_abv'] = df.beer_abv.fillna(df.beer_abv.mean())"
   ]
  },
  {
   "cell_type": "code",
   "execution_count": 203,
   "metadata": {
    "ExecuteTime": {
     "end_time": "2016-04-26T22:20:57.492584",
     "start_time": "2016-04-26T22:20:55.201236"
    },
    "collapsed": false
   },
   "outputs": [],
   "source": [
    "# convert catagorical variables to string type\n",
    "df['review_profilename'] = df['review_profilename'].map(lambda x: str(x))\n",
    "df['beer_name'] = df['beer_name'].map(lambda x: str(x))\n",
    "df['brewery_name'] = df['brewery_name'].map(lambda x: str(x))"
   ]
  },
  {
   "cell_type": "markdown",
   "metadata": {},
   "source": [
    "### Convert  to SFrame and split into training and test data sets"
   ]
  },
  {
   "cell_type": "code",
   "execution_count": 58,
   "metadata": {
    "ExecuteTime": {
     "end_time": "2016-04-25T11:43:15.911015",
     "start_time": "2016-04-25T11:43:07.096810"
    },
    "collapsed": false
   },
   "outputs": [],
   "source": [
    "SFdata = gl.SFrame(df[['brewery_name',\n",
    "                       'review_profilename',\n",
    "                       'beer_abv',\n",
    "                       'beer_style',\n",
    "                       'beer_beerid',\n",
    "                       'review_overall',\n",
    "                       'review_aroma',\n",
    "                       'review_appearance',\n",
    "                       'review_palate',\n",
    "                       'review_taste',\n",
    "                       'beer_name']])"
   ]
  },
  {
   "cell_type": "code",
   "execution_count": 59,
   "metadata": {
    "ExecuteTime": {
     "end_time": "2016-04-25T11:43:20.755158",
     "start_time": "2016-04-25T11:43:20.626855"
    },
    "collapsed": false
   },
   "outputs": [],
   "source": [
    "train, test = SFdata.random_split(.8, seed=1)"
   ]
  },
  {
   "cell_type": "markdown",
   "metadata": {},
   "source": [
    "### Baseline: simple popularity model\n",
    "-> This model simply calulates the mean rating for each beer and recommends the highest rated beer"
   ]
  },
  {
   "cell_type": "code",
   "execution_count": 212,
   "metadata": {
    "ExecuteTime": {
     "end_time": "2016-04-26T22:33:18.728659",
     "start_time": "2016-04-26T22:33:15.983277"
    },
    "collapsed": false
   },
   "outputs": [
    {
     "data": {
      "text/html": [
       "<pre>Recsys training: model = popularity</pre>"
      ],
      "text/plain": [
       "Recsys training: model = popularity"
      ]
     },
     "metadata": {},
     "output_type": "display_data"
    },
    {
     "data": {
      "text/html": [
       "<pre>Warning: Ignoring columns brewery_name, beer_abv, beer_style, review_aroma, review_appearance, review_palate, review_taste, beer_name;</pre>"
      ],
      "text/plain": [
       "Warning: Ignoring columns brewery_name, beer_abv, beer_style, review_aroma, review_appearance, review_palate, review_taste, beer_name;"
      ]
     },
     "metadata": {},
     "output_type": "display_data"
    },
    {
     "data": {
      "text/html": [
       "<pre>    To use these columns in scoring predictions, use a model that allows the use of additional features.</pre>"
      ],
      "text/plain": [
       "    To use these columns in scoring predictions, use a model that allows the use of additional features."
      ]
     },
     "metadata": {},
     "output_type": "display_data"
    },
    {
     "data": {
      "text/html": [
       "<pre>Preparing data set.</pre>"
      ],
      "text/plain": [
       "Preparing data set."
      ]
     },
     "metadata": {},
     "output_type": "display_data"
    },
    {
     "data": {
      "text/html": [
       "<pre>    Data has 1269155 observations with 31120 users and 60863 items.</pre>"
      ],
      "text/plain": [
       "    Data has 1269155 observations with 31120 users and 60863 items."
      ]
     },
     "metadata": {},
     "output_type": "display_data"
    },
    {
     "data": {
      "text/html": [
       "<pre>    Data prepared in: 2.06776s</pre>"
      ],
      "text/plain": [
       "    Data prepared in: 2.06776s"
      ]
     },
     "metadata": {},
     "output_type": "display_data"
    },
    {
     "data": {
      "text/html": [
       "<pre>1269155 observations to process; with 60863 unique items.</pre>"
      ],
      "text/plain": [
       "1269155 observations to process; with 60863 unique items."
      ]
     },
     "metadata": {},
     "output_type": "display_data"
    }
   ],
   "source": [
    "pop_model = gl.popularity_recommender.create(train, 'review_profilename', 'beer_beerid', 'review_overall')"
   ]
  },
  {
   "cell_type": "code",
   "execution_count": 205,
   "metadata": {
    "ExecuteTime": {
     "end_time": "2016-04-26T22:24:28.561581",
     "start_time": "2016-04-26T22:24:28.141871"
    },
    "collapsed": false
   },
   "outputs": [
    {
     "name": "stdout",
     "output_type": "stream",
     "text": [
      "Baseline RMSE:  0.629287362438\n"
     ]
    }
   ],
   "source": [
    "# Calulating Baseline RMSE\n",
    "\n",
    "baseline_rmse = gl.evaluation.rmse(test['review_overall'], m.predict(test))\n",
    "print 'Baseline RMSE: ',baseline_rmse"
   ]
  },
  {
   "cell_type": "markdown",
   "metadata": {},
   "source": [
    "### Matrix Factorization Model with Side Features and Sub-reviews"
   ]
  },
  {
   "cell_type": "code",
   "execution_count": 208,
   "metadata": {
    "ExecuteTime": {
     "end_time": "2016-04-26T22:26:04.354460",
     "start_time": "2016-04-26T22:26:04.052807"
    },
    "collapsed": false
   },
   "outputs": [],
   "source": [
    "obs_data_train = train['review_profilename',\n",
    "                       'beer_beerid',\n",
    "                       'review_overall',\n",
    "                       'review_aroma',\n",
    "                       'review_appearance',\n",
    "                       'review_palate',\n",
    "                       'review_taste']\n",
    "obs_data_test = test['review_profilename',\n",
    "                     'beer_beerid',\n",
    "                     'review_overall',\n",
    "                     'review_aroma',\n",
    "                     'review_appearance',\n",
    "                     'review_palate',\n",
    "                     'review_taste']"
   ]
  },
  {
   "cell_type": "code",
   "execution_count": 209,
   "metadata": {
    "ExecuteTime": {
     "end_time": "2016-04-26T22:26:17.099932",
     "start_time": "2016-04-26T22:26:17.035383"
    },
    "collapsed": false
   },
   "outputs": [],
   "source": [
    "product_data_train = train['beer_beerid', 'beer_abv','brewery_name']\n",
    "product_data_test = test['beer_beerid', 'beer_abv', 'brewery_name']"
   ]
  },
  {
   "cell_type": "code",
   "execution_count": 110,
   "metadata": {
    "ExecuteTime": {
     "end_time": "2016-04-26T11:12:00.296418",
     "start_time": "2016-04-26T11:06:25.649284"
    },
    "collapsed": false
   },
   "outputs": [
    {
     "data": {
      "text/html": [
       "<pre>Recsys training: model = factorization_recommender</pre>"
      ],
      "text/plain": [
       "Recsys training: model = factorization_recommender"
      ]
     },
     "metadata": {},
     "output_type": "display_data"
    },
    {
     "data": {
      "text/html": [
       "<pre>Preparing data set.</pre>"
      ],
      "text/plain": [
       "Preparing data set."
      ]
     },
     "metadata": {},
     "output_type": "display_data"
    },
    {
     "data": {
      "text/html": [
       "<pre>    Data has 1269155 observations with 31120 users and 60863 items.</pre>"
      ],
      "text/plain": [
       "    Data has 1269155 observations with 31120 users and 60863 items."
      ]
     },
     "metadata": {},
     "output_type": "display_data"
    },
    {
     "data": {
      "text/html": [
       "<pre>    Data prepared in: 3.61065s</pre>"
      ],
      "text/plain": [
       "    Data prepared in: 3.61065s"
      ]
     },
     "metadata": {},
     "output_type": "display_data"
    },
    {
     "data": {
      "text/html": [
       "<pre>Training factorization_recommender for recommendations.</pre>"
      ],
      "text/plain": [
       "Training factorization_recommender for recommendations."
      ]
     },
     "metadata": {},
     "output_type": "display_data"
    },
    {
     "data": {
      "text/html": [
       "<pre>+--------------------------------+--------------------------------------------------+----------+</pre>"
      ],
      "text/plain": [
       "+--------------------------------+--------------------------------------------------+----------+"
      ]
     },
     "metadata": {},
     "output_type": "display_data"
    },
    {
     "data": {
      "text/html": [
       "<pre>| Parameter                      | Description                                      | Value    |</pre>"
      ],
      "text/plain": [
       "| Parameter                      | Description                                      | Value    |"
      ]
     },
     "metadata": {},
     "output_type": "display_data"
    },
    {
     "data": {
      "text/html": [
       "<pre>+--------------------------------+--------------------------------------------------+----------+</pre>"
      ],
      "text/plain": [
       "+--------------------------------+--------------------------------------------------+----------+"
      ]
     },
     "metadata": {},
     "output_type": "display_data"
    },
    {
     "data": {
      "text/html": [
       "<pre>| num_factors                    | Factor Dimension                                 | 5        |</pre>"
      ],
      "text/plain": [
       "| num_factors                    | Factor Dimension                                 | 5        |"
      ]
     },
     "metadata": {},
     "output_type": "display_data"
    },
    {
     "data": {
      "text/html": [
       "<pre>| regularization                 | L2 Regularization on Factors                     | 1        |</pre>"
      ],
      "text/plain": [
       "| regularization                 | L2 Regularization on Factors                     | 1        |"
      ]
     },
     "metadata": {},
     "output_type": "display_data"
    },
    {
     "data": {
      "text/html": [
       "<pre>| solver                         | Solver used for training                         | adagrad  |</pre>"
      ],
      "text/plain": [
       "| solver                         | Solver used for training                         | adagrad  |"
      ]
     },
     "metadata": {},
     "output_type": "display_data"
    },
    {
     "data": {
      "text/html": [
       "<pre>| linear_regularization          | L2 Regularization on Linear Coefficients         | 1e-10    |</pre>"
      ],
      "text/plain": [
       "| linear_regularization          | L2 Regularization on Linear Coefficients         | 1e-10    |"
      ]
     },
     "metadata": {},
     "output_type": "display_data"
    },
    {
     "data": {
      "text/html": [
       "<pre>| side_data_factorization        | Assign Factors for Side Data                     | True     |</pre>"
      ],
      "text/plain": [
       "| side_data_factorization        | Assign Factors for Side Data                     | True     |"
      ]
     },
     "metadata": {},
     "output_type": "display_data"
    },
    {
     "data": {
      "text/html": [
       "<pre>| max_iterations                 | Maximum Number of Iterations                     | 50       |</pre>"
      ],
      "text/plain": [
       "| max_iterations                 | Maximum Number of Iterations                     | 50       |"
      ]
     },
     "metadata": {},
     "output_type": "display_data"
    },
    {
     "data": {
      "text/html": [
       "<pre>+--------------------------------+--------------------------------------------------+----------+</pre>"
      ],
      "text/plain": [
       "+--------------------------------+--------------------------------------------------+----------+"
      ]
     },
     "metadata": {},
     "output_type": "display_data"
    },
    {
     "data": {
      "text/html": [
       "<pre>  Optimizing model using SGD; tuning step size.</pre>"
      ],
      "text/plain": [
       "  Optimizing model using SGD; tuning step size."
      ]
     },
     "metadata": {},
     "output_type": "display_data"
    },
    {
     "data": {
      "text/html": [
       "<pre>  Using 158644 / 1269155 points for tuning the step size.</pre>"
      ],
      "text/plain": [
       "  Using 158644 / 1269155 points for tuning the step size."
      ]
     },
     "metadata": {},
     "output_type": "display_data"
    },
    {
     "data": {
      "text/html": [
       "<pre>+---------+-------------------+------------------------------------------+</pre>"
      ],
      "text/plain": [
       "+---------+-------------------+------------------------------------------+"
      ]
     },
     "metadata": {},
     "output_type": "display_data"
    },
    {
     "data": {
      "text/html": [
       "<pre>| Attempt | Initial Step Size | Estimated Objective Value                |</pre>"
      ],
      "text/plain": [
       "| Attempt | Initial Step Size | Estimated Objective Value                |"
      ]
     },
     "metadata": {},
     "output_type": "display_data"
    },
    {
     "data": {
      "text/html": [
       "<pre>+---------+-------------------+------------------------------------------+</pre>"
      ],
      "text/plain": [
       "+---------+-------------------+------------------------------------------+"
      ]
     },
     "metadata": {},
     "output_type": "display_data"
    },
    {
     "data": {
      "text/html": [
       "<pre>| 0       | 5.80548e-05       | 0.424059                                 |</pre>"
      ],
      "text/plain": [
       "| 0       | 5.80548e-05       | 0.424059                                 |"
      ]
     },
     "metadata": {},
     "output_type": "display_data"
    },
    {
     "data": {
      "text/html": [
       "<pre>| 1       | 2.90274e-05       | 0.468393                                 |</pre>"
      ],
      "text/plain": [
       "| 1       | 2.90274e-05       | 0.468393                                 |"
      ]
     },
     "metadata": {},
     "output_type": "display_data"
    },
    {
     "data": {
      "text/html": [
       "<pre>| 2       | 1.45137e-05       | 0.492857                                 |</pre>"
      ],
      "text/plain": [
       "| 2       | 1.45137e-05       | 0.492857                                 |"
      ]
     },
     "metadata": {},
     "output_type": "display_data"
    },
    {
     "data": {
      "text/html": [
       "<pre>| 3       | 7.25685e-06       | 0.505927                                 |</pre>"
      ],
      "text/plain": [
       "| 3       | 7.25685e-06       | 0.505927                                 |"
      ]
     },
     "metadata": {},
     "output_type": "display_data"
    },
    {
     "data": {
      "text/html": [
       "<pre>+---------+-------------------+------------------------------------------+</pre>"
      ],
      "text/plain": [
       "+---------+-------------------+------------------------------------------+"
      ]
     },
     "metadata": {},
     "output_type": "display_data"
    },
    {
     "data": {
      "text/html": [
       "<pre>| Final   | 5.80548e-05       | 0.424059                                 |</pre>"
      ],
      "text/plain": [
       "| Final   | 5.80548e-05       | 0.424059                                 |"
      ]
     },
     "metadata": {},
     "output_type": "display_data"
    },
    {
     "data": {
      "text/html": [
       "<pre>+---------+-------------------+------------------------------------------+</pre>"
      ],
      "text/plain": [
       "+---------+-------------------+------------------------------------------+"
      ]
     },
     "metadata": {},
     "output_type": "display_data"
    },
    {
     "data": {
      "text/html": [
       "<pre>Starting Optimization.</pre>"
      ],
      "text/plain": [
       "Starting Optimization."
      ]
     },
     "metadata": {},
     "output_type": "display_data"
    },
    {
     "data": {
      "text/html": [
       "<pre>+---------+--------------+-------------------+-----------------------+-------------+</pre>"
      ],
      "text/plain": [
       "+---------+--------------+-------------------+-----------------------+-------------+"
      ]
     },
     "metadata": {},
     "output_type": "display_data"
    },
    {
     "data": {
      "text/html": [
       "<pre>| Iter.   | Elapsed Time | Approx. Objective | Approx. Training RMSE | Step Size   |</pre>"
      ],
      "text/plain": [
       "| Iter.   | Elapsed Time | Approx. Objective | Approx. Training RMSE | Step Size   |"
      ]
     },
     "metadata": {},
     "output_type": "display_data"
    },
    {
     "data": {
      "text/html": [
       "<pre>+---------+--------------+-------------------+-----------------------+-------------+</pre>"
      ],
      "text/plain": [
       "+---------+--------------+-------------------+-----------------------+-------------+"
      ]
     },
     "metadata": {},
     "output_type": "display_data"
    },
    {
     "data": {
      "text/html": [
       "<pre>| Initial | 147us        | 0.522025          | 0.721245              |             |</pre>"
      ],
      "text/plain": [
       "| Initial | 147us        | 0.522025          | 0.721245              |             |"
      ]
     },
     "metadata": {},
     "output_type": "display_data"
    },
    {
     "data": {
      "text/html": [
       "<pre>+---------+--------------+-------------------+-----------------------+-------------+</pre>"
      ],
      "text/plain": [
       "+---------+--------------+-------------------+-----------------------+-------------+"
      ]
     },
     "metadata": {},
     "output_type": "display_data"
    },
    {
     "data": {
      "text/html": [
       "<pre>| 1       | 1.66s        | 0.439643          | 0.663049              | 5.80548e-05 |</pre>"
      ],
      "text/plain": [
       "| 1       | 1.66s        | 0.439643          | 0.663049              | 5.80548e-05 |"
      ]
     },
     "metadata": {},
     "output_type": "display_data"
    },
    {
     "data": {
      "text/html": [
       "<pre>| 2       | 3.46s        | 0.385545          | 0.620922              | 5.80548e-05 |</pre>"
      ],
      "text/plain": [
       "| 2       | 3.46s        | 0.385545          | 0.620922              | 5.80548e-05 |"
      ]
     },
     "metadata": {},
     "output_type": "display_data"
    },
    {
     "data": {
      "text/html": [
       "<pre>| 3       | 4.70s        | 0.355912          | 0.596584              | 5.80548e-05 |</pre>"
      ],
      "text/plain": [
       "| 3       | 4.70s        | 0.355912          | 0.596584              | 5.80548e-05 |"
      ]
     },
     "metadata": {},
     "output_type": "display_data"
    },
    {
     "data": {
      "text/html": [
       "<pre>| 4       | 5.91s        | 0.334218          | 0.578116              | 5.80548e-05 |</pre>"
      ],
      "text/plain": [
       "| 4       | 5.91s        | 0.334218          | 0.578116              | 5.80548e-05 |"
      ]
     },
     "metadata": {},
     "output_type": "display_data"
    },
    {
     "data": {
      "text/html": [
       "<pre>| 5       | 7.42s        | 0.317015          | 0.563041              | 5.80548e-05 |</pre>"
      ],
      "text/plain": [
       "| 5       | 7.42s        | 0.317015          | 0.563041              | 5.80548e-05 |"
      ]
     },
     "metadata": {},
     "output_type": "display_data"
    },
    {
     "data": {
      "text/html": [
       "<pre>| 6       | 9.20s        | 0.302855          | 0.550322              | 5.80548e-05 |</pre>"
      ],
      "text/plain": [
       "| 6       | 9.20s        | 0.302855          | 0.550322              | 5.80548e-05 |"
      ]
     },
     "metadata": {},
     "output_type": "display_data"
    },
    {
     "data": {
      "text/html": [
       "<pre>| 7       | 10.68s       | 0.290862          | 0.539317              | 5.80548e-05 |</pre>"
      ],
      "text/plain": [
       "| 7       | 10.68s       | 0.290862          | 0.539317              | 5.80548e-05 |"
      ]
     },
     "metadata": {},
     "output_type": "display_data"
    },
    {
     "data": {
      "text/html": [
       "<pre>| 8       | 12.25s       | 0.280575          | 0.529694              | 5.80548e-05 |</pre>"
      ],
      "text/plain": [
       "| 8       | 12.25s       | 0.280575          | 0.529694              | 5.80548e-05 |"
      ]
     },
     "metadata": {},
     "output_type": "display_data"
    },
    {
     "data": {
      "text/html": [
       "<pre>| 9       | 13.89s       | 0.27167           | 0.52122               | 5.80548e-05 |</pre>"
      ],
      "text/plain": [
       "| 9       | 13.89s       | 0.27167           | 0.52122               | 5.80548e-05 |"
      ]
     },
     "metadata": {},
     "output_type": "display_data"
    },
    {
     "data": {
      "text/html": [
       "<pre>| 10      | 15.39s       | 0.263823          | 0.513637              | 5.80548e-05 |</pre>"
      ],
      "text/plain": [
       "| 10      | 15.39s       | 0.263823          | 0.513637              | 5.80548e-05 |"
      ]
     },
     "metadata": {},
     "output_type": "display_data"
    },
    {
     "data": {
      "text/html": [
       "<pre>| 11      | 16.69s       | 0.25691           | 0.506863              | 5.80548e-05 |</pre>"
      ],
      "text/plain": [
       "| 11      | 16.69s       | 0.25691           | 0.506863              | 5.80548e-05 |"
      ]
     },
     "metadata": {},
     "output_type": "display_data"
    },
    {
     "data": {
      "text/html": [
       "<pre>| 12      | 17.96s       | 0.250762          | 0.500761              | 5.80548e-05 |</pre>"
      ],
      "text/plain": [
       "| 12      | 17.96s       | 0.250762          | 0.500761              | 5.80548e-05 |"
      ]
     },
     "metadata": {},
     "output_type": "display_data"
    },
    {
     "data": {
      "text/html": [
       "<pre>| 13      | 19.29s       | 0.245223          | 0.4952                | 5.80548e-05 |</pre>"
      ],
      "text/plain": [
       "| 13      | 19.29s       | 0.245223          | 0.4952                | 5.80548e-05 |"
      ]
     },
     "metadata": {},
     "output_type": "display_data"
    },
    {
     "data": {
      "text/html": [
       "<pre>| 14      | 20.61s       | 0.240205          | 0.490107              | 5.80548e-05 |</pre>"
      ],
      "text/plain": [
       "| 14      | 20.61s       | 0.240205          | 0.490107              | 5.80548e-05 |"
      ]
     },
     "metadata": {},
     "output_type": "display_data"
    },
    {
     "data": {
      "text/html": [
       "<pre>| 15      | 21.87s       | 0.235677          | 0.485466              | 5.80548e-05 |</pre>"
      ],
      "text/plain": [
       "| 15      | 21.87s       | 0.235677          | 0.485466              | 5.80548e-05 |"
      ]
     },
     "metadata": {},
     "output_type": "display_data"
    },
    {
     "data": {
      "text/html": [
       "<pre>| 16      | 23.11s       | 0.231578          | 0.481226              | 5.80548e-05 |</pre>"
      ],
      "text/plain": [
       "| 16      | 23.11s       | 0.231578          | 0.481226              | 5.80548e-05 |"
      ]
     },
     "metadata": {},
     "output_type": "display_data"
    },
    {
     "data": {
      "text/html": [
       "<pre>| 17      | 24.39s       | 0.227863          | 0.47735               | 5.80548e-05 |</pre>"
      ],
      "text/plain": [
       "| 17      | 24.39s       | 0.227863          | 0.47735               | 5.80548e-05 |"
      ]
     },
     "metadata": {},
     "output_type": "display_data"
    },
    {
     "data": {
      "text/html": [
       "<pre>| 18      | 25.61s       | 0.224469          | 0.473782              | 5.80548e-05 |</pre>"
      ],
      "text/plain": [
       "| 18      | 25.61s       | 0.224469          | 0.473782              | 5.80548e-05 |"
      ]
     },
     "metadata": {},
     "output_type": "display_data"
    },
    {
     "data": {
      "text/html": [
       "<pre>| 19      | 26.86s       | 0.221357          | 0.470485              | 5.80548e-05 |</pre>"
      ],
      "text/plain": [
       "| 19      | 26.86s       | 0.221357          | 0.470485              | 5.80548e-05 |"
      ]
     },
     "metadata": {},
     "output_type": "display_data"
    },
    {
     "data": {
      "text/html": [
       "<pre>| 20      | 28.19s       | 0.218497          | 0.467437              | 5.80548e-05 |</pre>"
      ],
      "text/plain": [
       "| 20      | 28.19s       | 0.218497          | 0.467437              | 5.80548e-05 |"
      ]
     },
     "metadata": {},
     "output_type": "display_data"
    },
    {
     "data": {
      "text/html": [
       "<pre>| 21      | 29.49s       | 0.215866          | 0.464614              | 5.80548e-05 |</pre>"
      ],
      "text/plain": [
       "| 21      | 29.49s       | 0.215866          | 0.464614              | 5.80548e-05 |"
      ]
     },
     "metadata": {},
     "output_type": "display_data"
    },
    {
     "data": {
      "text/html": [
       "<pre>| 22      | 30.72s       | 0.213435          | 0.46199               | 5.80548e-05 |</pre>"
      ],
      "text/plain": [
       "| 22      | 30.72s       | 0.213435          | 0.46199               | 5.80548e-05 |"
      ]
     },
     "metadata": {},
     "output_type": "display_data"
    },
    {
     "data": {
      "text/html": [
       "<pre>| 23      | 31.96s       | 0.211189          | 0.459553              | 5.80548e-05 |</pre>"
      ],
      "text/plain": [
       "| 23      | 31.96s       | 0.211189          | 0.459553              | 5.80548e-05 |"
      ]
     },
     "metadata": {},
     "output_type": "display_data"
    },
    {
     "data": {
      "text/html": [
       "<pre>| 24      | 33.23s       | 0.209108          | 0.457284              | 5.80548e-05 |</pre>"
      ],
      "text/plain": [
       "| 24      | 33.23s       | 0.209108          | 0.457284              | 5.80548e-05 |"
      ]
     },
     "metadata": {},
     "output_type": "display_data"
    },
    {
     "data": {
      "text/html": [
       "<pre>| 25      | 34.68s       | 0.207171          | 0.455161              | 5.80548e-05 |</pre>"
      ],
      "text/plain": [
       "| 25      | 34.68s       | 0.207171          | 0.455161              | 5.80548e-05 |"
      ]
     },
     "metadata": {},
     "output_type": "display_data"
    },
    {
     "data": {
      "text/html": [
       "<pre>| 26      | 36.08s       | 0.205363          | 0.45317               | 5.80548e-05 |</pre>"
      ],
      "text/plain": [
       "| 26      | 36.08s       | 0.205363          | 0.45317               | 5.80548e-05 |"
      ]
     },
     "metadata": {},
     "output_type": "display_data"
    },
    {
     "data": {
      "text/html": [
       "<pre>| 27      | 37.38s       | 0.203673          | 0.451302              | 5.80548e-05 |</pre>"
      ],
      "text/plain": [
       "| 27      | 37.38s       | 0.203673          | 0.451302              | 5.80548e-05 |"
      ]
     },
     "metadata": {},
     "output_type": "display_data"
    },
    {
     "data": {
      "text/html": [
       "<pre>| 28      | 38.71s       | 0.202103          | 0.449559              | 5.80548e-05 |</pre>"
      ],
      "text/plain": [
       "| 28      | 38.71s       | 0.202103          | 0.449559              | 5.80548e-05 |"
      ]
     },
     "metadata": {},
     "output_type": "display_data"
    },
    {
     "data": {
      "text/html": [
       "<pre>| 29      | 40.38s       | 0.200695          | 0.447989              | 5.80548e-05 |</pre>"
      ],
      "text/plain": [
       "| 29      | 40.38s       | 0.200695          | 0.447989              | 5.80548e-05 |"
      ]
     },
     "metadata": {},
     "output_type": "display_data"
    },
    {
     "data": {
      "text/html": [
       "<pre>| 30      | 42.21s       | 0.1994            | 0.446543              | 5.80548e-05 |</pre>"
      ],
      "text/plain": [
       "| 30      | 42.21s       | 0.1994            | 0.446543              | 5.80548e-05 |"
      ]
     },
     "metadata": {},
     "output_type": "display_data"
    },
    {
     "data": {
      "text/html": [
       "<pre>| 31      | 43.99s       | 0.198185          | 0.44518               | 5.80548e-05 |</pre>"
      ],
      "text/plain": [
       "| 31      | 43.99s       | 0.198185          | 0.44518               | 5.80548e-05 |"
      ]
     },
     "metadata": {},
     "output_type": "display_data"
    },
    {
     "data": {
      "text/html": [
       "<pre>| 32      | 45.40s       | 0.197046          | 0.443898              | 5.80548e-05 |</pre>"
      ],
      "text/plain": [
       "| 32      | 45.40s       | 0.197046          | 0.443898              | 5.80548e-05 |"
      ]
     },
     "metadata": {},
     "output_type": "display_data"
    },
    {
     "data": {
      "text/html": [
       "<pre>| 33      | 46.75s       | 0.195975          | 0.442691              | 5.80548e-05 |</pre>"
      ],
      "text/plain": [
       "| 33      | 46.75s       | 0.195975          | 0.442691              | 5.80548e-05 |"
      ]
     },
     "metadata": {},
     "output_type": "display_data"
    },
    {
     "data": {
      "text/html": [
       "<pre>| 34      | 47.96s       | 0.194967          | 0.441551              | 5.80548e-05 |</pre>"
      ],
      "text/plain": [
       "| 34      | 47.96s       | 0.194967          | 0.441551              | 5.80548e-05 |"
      ]
     },
     "metadata": {},
     "output_type": "display_data"
    },
    {
     "data": {
      "text/html": [
       "<pre>| 35      | 49.19s       | 0.194016          | 0.440473              | 5.80548e-05 |</pre>"
      ],
      "text/plain": [
       "| 35      | 49.19s       | 0.194016          | 0.440473              | 5.80548e-05 |"
      ]
     },
     "metadata": {},
     "output_type": "display_data"
    },
    {
     "data": {
      "text/html": [
       "<pre>| 36      | 50.50s       | 0.19312           | 0.439454              | 5.80548e-05 |</pre>"
      ],
      "text/plain": [
       "| 36      | 50.50s       | 0.19312           | 0.439454              | 5.80548e-05 |"
      ]
     },
     "metadata": {},
     "output_type": "display_data"
    },
    {
     "data": {
      "text/html": [
       "<pre>| 37      | 52.13s       | 0.192271          | 0.438487              | 5.80548e-05 |</pre>"
      ],
      "text/plain": [
       "| 37      | 52.13s       | 0.192271          | 0.438487              | 5.80548e-05 |"
      ]
     },
     "metadata": {},
     "output_type": "display_data"
    },
    {
     "data": {
      "text/html": [
       "<pre>| 38      | 53.59s       | 0.191466          | 0.437568              | 5.80548e-05 |</pre>"
      ],
      "text/plain": [
       "| 38      | 53.59s       | 0.191466          | 0.437568              | 5.80548e-05 |"
      ]
     },
     "metadata": {},
     "output_type": "display_data"
    },
    {
     "data": {
      "text/html": [
       "<pre>| 39      | 54.79s       | 0.190706          | 0.436699              | 5.80548e-05 |</pre>"
      ],
      "text/plain": [
       "| 39      | 54.79s       | 0.190706          | 0.436699              | 5.80548e-05 |"
      ]
     },
     "metadata": {},
     "output_type": "display_data"
    },
    {
     "data": {
      "text/html": [
       "<pre>| 40      | 56.34s       | 0.189989          | 0.435877              | 5.80548e-05 |</pre>"
      ],
      "text/plain": [
       "| 40      | 56.34s       | 0.189989          | 0.435877              | 5.80548e-05 |"
      ]
     },
     "metadata": {},
     "output_type": "display_data"
    },
    {
     "data": {
      "text/html": [
       "<pre>| 41      | 57.56s       | 0.189309          | 0.435097              | 5.80548e-05 |</pre>"
      ],
      "text/plain": [
       "| 41      | 57.56s       | 0.189309          | 0.435097              | 5.80548e-05 |"
      ]
     },
     "metadata": {},
     "output_type": "display_data"
    },
    {
     "data": {
      "text/html": [
       "<pre>| 42      | 58.76s       | 0.188659          | 0.434349              | 5.80548e-05 |</pre>"
      ],
      "text/plain": [
       "| 42      | 58.76s       | 0.188659          | 0.434349              | 5.80548e-05 |"
      ]
     },
     "metadata": {},
     "output_type": "display_data"
    },
    {
     "data": {
      "text/html": [
       "<pre>| 43      | 1m 0s        | 0.188037          | 0.433632              | 5.80548e-05 |</pre>"
      ],
      "text/plain": [
       "| 43      | 1m 0s        | 0.188037          | 0.433632              | 5.80548e-05 |"
      ]
     },
     "metadata": {},
     "output_type": "display_data"
    },
    {
     "data": {
      "text/html": [
       "<pre>| 44      | 1m 1s        | 0.187445          | 0.432949              | 5.80548e-05 |</pre>"
      ],
      "text/plain": [
       "| 44      | 1m 1s        | 0.187445          | 0.432949              | 5.80548e-05 |"
      ]
     },
     "metadata": {},
     "output_type": "display_data"
    },
    {
     "data": {
      "text/html": [
       "<pre>| 45      | 1m 3s        | 0.186878          | 0.432294              | 5.80548e-05 |</pre>"
      ],
      "text/plain": [
       "| 45      | 1m 3s        | 0.186878          | 0.432294              | 5.80548e-05 |"
      ]
     },
     "metadata": {},
     "output_type": "display_data"
    },
    {
     "data": {
      "text/html": [
       "<pre>| 46      | 1m 4s        | 0.186333          | 0.431663              | 5.80548e-05 |</pre>"
      ],
      "text/plain": [
       "| 46      | 1m 4s        | 0.186333          | 0.431663              | 5.80548e-05 |"
      ]
     },
     "metadata": {},
     "output_type": "display_data"
    },
    {
     "data": {
      "text/html": [
       "<pre>| 47      | 1m 5s        | 0.185813          | 0.431061              | 5.80548e-05 |</pre>"
      ],
      "text/plain": [
       "| 47      | 1m 5s        | 0.185813          | 0.431061              | 5.80548e-05 |"
      ]
     },
     "metadata": {},
     "output_type": "display_data"
    },
    {
     "data": {
      "text/html": [
       "<pre>| 48      | 1m 7s        | 0.185315          | 0.430483              | 5.80548e-05 |</pre>"
      ],
      "text/plain": [
       "| 48      | 1m 7s        | 0.185315          | 0.430483              | 5.80548e-05 |"
      ]
     },
     "metadata": {},
     "output_type": "display_data"
    },
    {
     "data": {
      "text/html": [
       "<pre>| 49      | 1m 8s        | 0.184837          | 0.429927              | 5.80548e-05 |</pre>"
      ],
      "text/plain": [
       "| 49      | 1m 8s        | 0.184837          | 0.429927              | 5.80548e-05 |"
      ]
     },
     "metadata": {},
     "output_type": "display_data"
    },
    {
     "data": {
      "text/html": [
       "<pre>| 50      | 1m 11s       | 0.184376          | 0.429391              | 5.80548e-05 |</pre>"
      ],
      "text/plain": [
       "| 50      | 1m 11s       | 0.184376          | 0.429391              | 5.80548e-05 |"
      ]
     },
     "metadata": {},
     "output_type": "display_data"
    },
    {
     "data": {
      "text/html": [
       "<pre>+---------+--------------+-------------------+-----------------------+-------------+</pre>"
      ],
      "text/plain": [
       "+---------+--------------+-------------------+-----------------------+-------------+"
      ]
     },
     "metadata": {},
     "output_type": "display_data"
    },
    {
     "data": {
      "text/html": [
       "<pre>Optimization Complete: Maximum number of passes through the data reached.</pre>"
      ],
      "text/plain": [
       "Optimization Complete: Maximum number of passes through the data reached."
      ]
     },
     "metadata": {},
     "output_type": "display_data"
    },
    {
     "data": {
      "text/html": [
       "<pre>Computing final objective value and training RMSE.</pre>"
      ],
      "text/plain": [
       "Computing final objective value and training RMSE."
      ]
     },
     "metadata": {},
     "output_type": "display_data"
    },
    {
     "data": {
      "text/html": [
       "<pre>       Final objective value: 0.184154</pre>"
      ],
      "text/plain": [
       "       Final objective value: 0.184154"
      ]
     },
     "metadata": {},
     "output_type": "display_data"
    },
    {
     "data": {
      "text/html": [
       "<pre>       Final training RMSE: 0.429132</pre>"
      ],
      "text/plain": [
       "       Final training RMSE: 0.429132"
      ]
     },
     "metadata": {},
     "output_type": "display_data"
    },
    {
     "data": {
      "text/html": [
       "<pre>Recsys training: model = factorization_recommender</pre>"
      ],
      "text/plain": [
       "Recsys training: model = factorization_recommender"
      ]
     },
     "metadata": {},
     "output_type": "display_data"
    },
    {
     "data": {
      "text/html": [
       "<pre>Preparing data set.</pre>"
      ],
      "text/plain": [
       "Preparing data set."
      ]
     },
     "metadata": {},
     "output_type": "display_data"
    },
    {
     "data": {
      "text/html": [
       "<pre>    Data has 1269155 observations with 31120 users and 60863 items.</pre>"
      ],
      "text/plain": [
       "    Data has 1269155 observations with 31120 users and 60863 items."
      ]
     },
     "metadata": {},
     "output_type": "display_data"
    },
    {
     "data": {
      "text/html": [
       "<pre>    Data prepared in: 3.72536s</pre>"
      ],
      "text/plain": [
       "    Data prepared in: 3.72536s"
      ]
     },
     "metadata": {},
     "output_type": "display_data"
    },
    {
     "data": {
      "text/html": [
       "<pre>Training factorization_recommender for recommendations.</pre>"
      ],
      "text/plain": [
       "Training factorization_recommender for recommendations."
      ]
     },
     "metadata": {},
     "output_type": "display_data"
    },
    {
     "data": {
      "text/html": [
       "<pre>+--------------------------------+--------------------------------------------------+----------+</pre>"
      ],
      "text/plain": [
       "+--------------------------------+--------------------------------------------------+----------+"
      ]
     },
     "metadata": {},
     "output_type": "display_data"
    },
    {
     "data": {
      "text/html": [
       "<pre>| Parameter                      | Description                                      | Value    |</pre>"
      ],
      "text/plain": [
       "| Parameter                      | Description                                      | Value    |"
      ]
     },
     "metadata": {},
     "output_type": "display_data"
    },
    {
     "data": {
      "text/html": [
       "<pre>+--------------------------------+--------------------------------------------------+----------+</pre>"
      ],
      "text/plain": [
       "+--------------------------------+--------------------------------------------------+----------+"
      ]
     },
     "metadata": {},
     "output_type": "display_data"
    },
    {
     "data": {
      "text/html": [
       "<pre>| num_factors                    | Factor Dimension                                 | 5        |</pre>"
      ],
      "text/plain": [
       "| num_factors                    | Factor Dimension                                 | 5        |"
      ]
     },
     "metadata": {},
     "output_type": "display_data"
    },
    {
     "data": {
      "text/html": [
       "<pre>| regularization                 | L2 Regularization on Factors                     | 0.1      |</pre>"
      ],
      "text/plain": [
       "| regularization                 | L2 Regularization on Factors                     | 0.1      |"
      ]
     },
     "metadata": {},
     "output_type": "display_data"
    },
    {
     "data": {
      "text/html": [
       "<pre>| solver                         | Solver used for training                         | adagrad  |</pre>"
      ],
      "text/plain": [
       "| solver                         | Solver used for training                         | adagrad  |"
      ]
     },
     "metadata": {},
     "output_type": "display_data"
    },
    {
     "data": {
      "text/html": [
       "<pre>| linear_regularization          | L2 Regularization on Linear Coefficients         | 1e-10    |</pre>"
      ],
      "text/plain": [
       "| linear_regularization          | L2 Regularization on Linear Coefficients         | 1e-10    |"
      ]
     },
     "metadata": {},
     "output_type": "display_data"
    },
    {
     "data": {
      "text/html": [
       "<pre>| side_data_factorization        | Assign Factors for Side Data                     | True     |</pre>"
      ],
      "text/plain": [
       "| side_data_factorization        | Assign Factors for Side Data                     | True     |"
      ]
     },
     "metadata": {},
     "output_type": "display_data"
    },
    {
     "data": {
      "text/html": [
       "<pre>| max_iterations                 | Maximum Number of Iterations                     | 50       |</pre>"
      ],
      "text/plain": [
       "| max_iterations                 | Maximum Number of Iterations                     | 50       |"
      ]
     },
     "metadata": {},
     "output_type": "display_data"
    },
    {
     "data": {
      "text/html": [
       "<pre>+--------------------------------+--------------------------------------------------+----------+</pre>"
      ],
      "text/plain": [
       "+--------------------------------+--------------------------------------------------+----------+"
      ]
     },
     "metadata": {},
     "output_type": "display_data"
    },
    {
     "data": {
      "text/html": [
       "<pre>  Optimizing model using SGD; tuning step size.</pre>"
      ],
      "text/plain": [
       "  Optimizing model using SGD; tuning step size."
      ]
     },
     "metadata": {},
     "output_type": "display_data"
    },
    {
     "data": {
      "text/html": [
       "<pre>  Using 158644 / 1269155 points for tuning the step size.</pre>"
      ],
      "text/plain": [
       "  Using 158644 / 1269155 points for tuning the step size."
      ]
     },
     "metadata": {},
     "output_type": "display_data"
    },
    {
     "data": {
      "text/html": [
       "<pre>+---------+-------------------+------------------------------------------+</pre>"
      ],
      "text/plain": [
       "+---------+-------------------+------------------------------------------+"
      ]
     },
     "metadata": {},
     "output_type": "display_data"
    },
    {
     "data": {
      "text/html": [
       "<pre>| Attempt | Initial Step Size | Estimated Objective Value                |</pre>"
      ],
      "text/plain": [
       "| Attempt | Initial Step Size | Estimated Objective Value                |"
      ]
     },
     "metadata": {},
     "output_type": "display_data"
    },
    {
     "data": {
      "text/html": [
       "<pre>+---------+-------------------+------------------------------------------+</pre>"
      ],
      "text/plain": [
       "+---------+-------------------+------------------------------------------+"
      ]
     },
     "metadata": {},
     "output_type": "display_data"
    },
    {
     "data": {
      "text/html": [
       "<pre>| 0       | 0.000580548       | 0.191508                                 |</pre>"
      ],
      "text/plain": [
       "| 0       | 0.000580548       | 0.191508                                 |"
      ]
     },
     "metadata": {},
     "output_type": "display_data"
    },
    {
     "data": {
      "text/html": [
       "<pre>| 1       | 0.000290274       | 0.241873                                 |</pre>"
      ],
      "text/plain": [
       "| 1       | 0.000290274       | 0.241873                                 |"
      ]
     },
     "metadata": {},
     "output_type": "display_data"
    },
    {
     "data": {
      "text/html": [
       "<pre>| 2       | 0.000145137       | 0.327156                                 |</pre>"
      ],
      "text/plain": [
       "| 2       | 0.000145137       | 0.327156                                 |"
      ]
     },
     "metadata": {},
     "output_type": "display_data"
    },
    {
     "data": {
      "text/html": [
       "<pre>| 3       | 7.25685e-05       | 0.406579                                 |</pre>"
      ],
      "text/plain": [
       "| 3       | 7.25685e-05       | 0.406579                                 |"
      ]
     },
     "metadata": {},
     "output_type": "display_data"
    },
    {
     "data": {
      "text/html": [
       "<pre>+---------+-------------------+------------------------------------------+</pre>"
      ],
      "text/plain": [
       "+---------+-------------------+------------------------------------------+"
      ]
     },
     "metadata": {},
     "output_type": "display_data"
    },
    {
     "data": {
      "text/html": [
       "<pre>| Final   | 0.000580548       | 0.191508                                 |</pre>"
      ],
      "text/plain": [
       "| Final   | 0.000580548       | 0.191508                                 |"
      ]
     },
     "metadata": {},
     "output_type": "display_data"
    },
    {
     "data": {
      "text/html": [
       "<pre>+---------+-------------------+------------------------------------------+</pre>"
      ],
      "text/plain": [
       "+---------+-------------------+------------------------------------------+"
      ]
     },
     "metadata": {},
     "output_type": "display_data"
    },
    {
     "data": {
      "text/html": [
       "<pre>Starting Optimization.</pre>"
      ],
      "text/plain": [
       "Starting Optimization."
      ]
     },
     "metadata": {},
     "output_type": "display_data"
    },
    {
     "data": {
      "text/html": [
       "<pre>+---------+--------------+-------------------+-----------------------+-------------+</pre>"
      ],
      "text/plain": [
       "+---------+--------------+-------------------+-----------------------+-------------+"
      ]
     },
     "metadata": {},
     "output_type": "display_data"
    },
    {
     "data": {
      "text/html": [
       "<pre>| Iter.   | Elapsed Time | Approx. Objective | Approx. Training RMSE | Step Size   |</pre>"
      ],
      "text/plain": [
       "| Iter.   | Elapsed Time | Approx. Objective | Approx. Training RMSE | Step Size   |"
      ]
     },
     "metadata": {},
     "output_type": "display_data"
    },
    {
     "data": {
      "text/html": [
       "<pre>+---------+--------------+-------------------+-----------------------+-------------+</pre>"
      ],
      "text/plain": [
       "+---------+--------------+-------------------+-----------------------+-------------+"
      ]
     },
     "metadata": {},
     "output_type": "display_data"
    },
    {
     "data": {
      "text/html": [
       "<pre>| Initial | 99us         | 0.520375          | 0.721243              |             |</pre>"
      ],
      "text/plain": [
       "| Initial | 99us         | 0.520375          | 0.721243              |             |"
      ]
     },
     "metadata": {},
     "output_type": "display_data"
    },
    {
     "data": {
      "text/html": [
       "<pre>+---------+--------------+-------------------+-----------------------+-------------+</pre>"
      ],
      "text/plain": [
       "+---------+--------------+-------------------+-----------------------+-------------+"
      ]
     },
     "metadata": {},
     "output_type": "display_data"
    },
    {
     "data": {
      "text/html": [
       "<pre>| 1       | 1.57s        | 0.215974          | 0.464656              | 0.000580548 |</pre>"
      ],
      "text/plain": [
       "| 1       | 1.57s        | 0.215974          | 0.464656              | 0.000580548 |"
      ]
     },
     "metadata": {},
     "output_type": "display_data"
    },
    {
     "data": {
      "text/html": [
       "<pre>| 2       | 3.33s        | 0.179968          | 0.424227              | 0.000580548 |</pre>"
      ],
      "text/plain": [
       "| 2       | 3.33s        | 0.179968          | 0.424227              | 0.000580548 |"
      ]
     },
     "metadata": {},
     "output_type": "display_data"
    },
    {
     "data": {
      "text/html": [
       "<pre>| 3       | 4.57s        | 0.174907          | 0.418219              | 0.000580548 |</pre>"
      ],
      "text/plain": [
       "| 3       | 4.57s        | 0.174907          | 0.418219              | 0.000580548 |"
      ]
     },
     "metadata": {},
     "output_type": "display_data"
    },
    {
     "data": {
      "text/html": [
       "<pre>| 4       | 5.87s        | 0.17237           | 0.415175              | 0.000580548 |</pre>"
      ],
      "text/plain": [
       "| 4       | 5.87s        | 0.17237           | 0.415175              | 0.000580548 |"
      ]
     },
     "metadata": {},
     "output_type": "display_data"
    },
    {
     "data": {
      "text/html": [
       "<pre>| 5       | 7.15s        | 0.170756          | 0.413226              | 0.000580548 |</pre>"
      ],
      "text/plain": [
       "| 5       | 7.15s        | 0.170756          | 0.413226              | 0.000580548 |"
      ]
     },
     "metadata": {},
     "output_type": "display_data"
    },
    {
     "data": {
      "text/html": [
       "<pre>| 6       | 8.91s        | 0.169608          | 0.411834              | 0.000580548 |</pre>"
      ],
      "text/plain": [
       "| 6       | 8.91s        | 0.169608          | 0.411834              | 0.000580548 |"
      ]
     },
     "metadata": {},
     "output_type": "display_data"
    },
    {
     "data": {
      "text/html": [
       "<pre>| 7       | 10.15s       | 0.16874           | 0.410779              | 0.000580548 |</pre>"
      ],
      "text/plain": [
       "| 7       | 10.15s       | 0.16874           | 0.410779              | 0.000580548 |"
      ]
     },
     "metadata": {},
     "output_type": "display_data"
    },
    {
     "data": {
      "text/html": [
       "<pre>| 8       | 11.55s       | 0.168056          | 0.409946              | 0.000580548 |</pre>"
      ],
      "text/plain": [
       "| 8       | 11.55s       | 0.168056          | 0.409946              | 0.000580548 |"
      ]
     },
     "metadata": {},
     "output_type": "display_data"
    },
    {
     "data": {
      "text/html": [
       "<pre>| 9       | 12.77s       | 0.167499          | 0.409266              | 0.000580548 |</pre>"
      ],
      "text/plain": [
       "| 9       | 12.77s       | 0.167499          | 0.409266              | 0.000580548 |"
      ]
     },
     "metadata": {},
     "output_type": "display_data"
    },
    {
     "data": {
      "text/html": [
       "<pre>| 10      | 14.00s       | 0.167034          | 0.408698              | 0.000580548 |</pre>"
      ],
      "text/plain": [
       "| 10      | 14.00s       | 0.167034          | 0.408698              | 0.000580548 |"
      ]
     },
     "metadata": {},
     "output_type": "display_data"
    },
    {
     "data": {
      "text/html": [
       "<pre>| 11      | 15.25s       | 0.166638          | 0.408214              | 0.000580548 |</pre>"
      ],
      "text/plain": [
       "| 11      | 15.25s       | 0.166638          | 0.408214              | 0.000580548 |"
      ]
     },
     "metadata": {},
     "output_type": "display_data"
    },
    {
     "data": {
      "text/html": [
       "<pre>| 12      | 16.46s       | 0.166294          | 0.407792              | 0.000580548 |</pre>"
      ],
      "text/plain": [
       "| 12      | 16.46s       | 0.166294          | 0.407792              | 0.000580548 |"
      ]
     },
     "metadata": {},
     "output_type": "display_data"
    },
    {
     "data": {
      "text/html": [
       "<pre>| 13      | 17.80s       | 0.165991          | 0.40742               | 0.000580548 |</pre>"
      ],
      "text/plain": [
       "| 13      | 17.80s       | 0.165991          | 0.40742               | 0.000580548 |"
      ]
     },
     "metadata": {},
     "output_type": "display_data"
    },
    {
     "data": {
      "text/html": [
       "<pre>| 14      | 19.02s       | 0.165724          | 0.407092              | 0.000580548 |</pre>"
      ],
      "text/plain": [
       "| 14      | 19.02s       | 0.165724          | 0.407092              | 0.000580548 |"
      ]
     },
     "metadata": {},
     "output_type": "display_data"
    },
    {
     "data": {
      "text/html": [
       "<pre>| 15      | 20.26s       | 0.165482          | 0.406795              | 0.000580548 |</pre>"
      ],
      "text/plain": [
       "| 15      | 20.26s       | 0.165482          | 0.406795              | 0.000580548 |"
      ]
     },
     "metadata": {},
     "output_type": "display_data"
    },
    {
     "data": {
      "text/html": [
       "<pre>| 16      | 21.44s       | 0.165263          | 0.406525              | 0.000580548 |</pre>"
      ],
      "text/plain": [
       "| 16      | 21.44s       | 0.165263          | 0.406525              | 0.000580548 |"
      ]
     },
     "metadata": {},
     "output_type": "display_data"
    },
    {
     "data": {
      "text/html": [
       "<pre>| 17      | 22.63s       | 0.165062          | 0.406278              | 0.000580548 |</pre>"
      ],
      "text/plain": [
       "| 17      | 22.63s       | 0.165062          | 0.406278              | 0.000580548 |"
      ]
     },
     "metadata": {},
     "output_type": "display_data"
    },
    {
     "data": {
      "text/html": [
       "<pre>| 18      | 23.88s       | 0.164876          | 0.406049              | 0.000580548 |</pre>"
      ],
      "text/plain": [
       "| 18      | 23.88s       | 0.164876          | 0.406049              | 0.000580548 |"
      ]
     },
     "metadata": {},
     "output_type": "display_data"
    },
    {
     "data": {
      "text/html": [
       "<pre>| 19      | 25.28s       | 0.164699          | 0.405832              | 0.000580548 |</pre>"
      ],
      "text/plain": [
       "| 19      | 25.28s       | 0.164699          | 0.405832              | 0.000580548 |"
      ]
     },
     "metadata": {},
     "output_type": "display_data"
    },
    {
     "data": {
      "text/html": [
       "<pre>| 20      | 26.56s       | 0.16454           | 0.405635              | 0.000580548 |</pre>"
      ],
      "text/plain": [
       "| 20      | 26.56s       | 0.16454           | 0.405635              | 0.000580548 |"
      ]
     },
     "metadata": {},
     "output_type": "display_data"
    },
    {
     "data": {
      "text/html": [
       "<pre>| 21      | 27.81s       | 0.164389          | 0.40545               | 0.000580548 |</pre>"
      ],
      "text/plain": [
       "| 21      | 27.81s       | 0.164389          | 0.40545               | 0.000580548 |"
      ]
     },
     "metadata": {},
     "output_type": "display_data"
    },
    {
     "data": {
      "text/html": [
       "<pre>| 22      | 29.06s       | 0.164245          | 0.405271              | 0.000580548 |</pre>"
      ],
      "text/plain": [
       "| 22      | 29.06s       | 0.164245          | 0.405271              | 0.000580548 |"
      ]
     },
     "metadata": {},
     "output_type": "display_data"
    },
    {
     "data": {
      "text/html": [
       "<pre>| 23      | 30.34s       | 0.164107          | 0.405102              | 0.000580548 |</pre>"
      ],
      "text/plain": [
       "| 23      | 30.34s       | 0.164107          | 0.405102              | 0.000580548 |"
      ]
     },
     "metadata": {},
     "output_type": "display_data"
    },
    {
     "data": {
      "text/html": [
       "<pre>| 24      | 31.60s       | 0.163978          | 0.404942              | 0.000580548 |</pre>"
      ],
      "text/plain": [
       "| 24      | 31.60s       | 0.163978          | 0.404942              | 0.000580548 |"
      ]
     },
     "metadata": {},
     "output_type": "display_data"
    },
    {
     "data": {
      "text/html": [
       "<pre>| 25      | 33.04s       | 0.163851          | 0.404785              | 0.000580548 |</pre>"
      ],
      "text/plain": [
       "| 25      | 33.04s       | 0.163851          | 0.404785              | 0.000580548 |"
      ]
     },
     "metadata": {},
     "output_type": "display_data"
    },
    {
     "data": {
      "text/html": [
       "<pre>| 26      | 35.09s       | 0.163734          | 0.40464               | 0.000580548 |</pre>"
      ],
      "text/plain": [
       "| 26      | 35.09s       | 0.163734          | 0.40464               | 0.000580548 |"
      ]
     },
     "metadata": {},
     "output_type": "display_data"
    },
    {
     "data": {
      "text/html": [
       "<pre>| 27      | 36.63s       | 0.163618          | 0.404498              | 0.000580548 |</pre>"
      ],
      "text/plain": [
       "| 27      | 36.63s       | 0.163618          | 0.404498              | 0.000580548 |"
      ]
     },
     "metadata": {},
     "output_type": "display_data"
    },
    {
     "data": {
      "text/html": [
       "<pre>| 28      | 38.12s       | 0.163506          | 0.404359              | 0.000580548 |</pre>"
      ],
      "text/plain": [
       "| 28      | 38.12s       | 0.163506          | 0.404359              | 0.000580548 |"
      ]
     },
     "metadata": {},
     "output_type": "display_data"
    },
    {
     "data": {
      "text/html": [
       "<pre>| 29      | 39.71s       | 0.163401          | 0.404229              | 0.000580548 |</pre>"
      ],
      "text/plain": [
       "| 29      | 39.71s       | 0.163401          | 0.404229              | 0.000580548 |"
      ]
     },
     "metadata": {},
     "output_type": "display_data"
    },
    {
     "data": {
      "text/html": [
       "<pre>| 30      | 41.32s       | 0.163298          | 0.404102              | 0.000580548 |</pre>"
      ],
      "text/plain": [
       "| 30      | 41.32s       | 0.163298          | 0.404102              | 0.000580548 |"
      ]
     },
     "metadata": {},
     "output_type": "display_data"
    },
    {
     "data": {
      "text/html": [
       "<pre>| 31      | 43.08s       | 0.163196          | 0.403976              | 0.000580548 |</pre>"
      ],
      "text/plain": [
       "| 31      | 43.08s       | 0.163196          | 0.403976              | 0.000580548 |"
      ]
     },
     "metadata": {},
     "output_type": "display_data"
    },
    {
     "data": {
      "text/html": [
       "<pre>| 32      | 44.82s       | 0.163102          | 0.403858              | 0.000580548 |</pre>"
      ],
      "text/plain": [
       "| 32      | 44.82s       | 0.163102          | 0.403858              | 0.000580548 |"
      ]
     },
     "metadata": {},
     "output_type": "display_data"
    },
    {
     "data": {
      "text/html": [
       "<pre>| 33      | 46.46s       | 0.163005          | 0.403738              | 0.000580548 |</pre>"
      ],
      "text/plain": [
       "| 33      | 46.46s       | 0.163005          | 0.403738              | 0.000580548 |"
      ]
     },
     "metadata": {},
     "output_type": "display_data"
    },
    {
     "data": {
      "text/html": [
       "<pre>| 34      | 48.10s       | 0.162914          | 0.403626              | 0.000580548 |</pre>"
      ],
      "text/plain": [
       "| 34      | 48.10s       | 0.162914          | 0.403626              | 0.000580548 |"
      ]
     },
     "metadata": {},
     "output_type": "display_data"
    },
    {
     "data": {
      "text/html": [
       "<pre>| 35      | 49.73s       | 0.162827          | 0.403519              | 0.000580548 |</pre>"
      ],
      "text/plain": [
       "| 35      | 49.73s       | 0.162827          | 0.403519              | 0.000580548 |"
      ]
     },
     "metadata": {},
     "output_type": "display_data"
    },
    {
     "data": {
      "text/html": [
       "<pre>| 36      | 51.35s       | 0.16274           | 0.403411              | 0.000580548 |</pre>"
      ],
      "text/plain": [
       "| 36      | 51.35s       | 0.16274           | 0.403411              | 0.000580548 |"
      ]
     },
     "metadata": {},
     "output_type": "display_data"
    },
    {
     "data": {
      "text/html": [
       "<pre>| 37      | 53.12s       | 0.162656          | 0.403306              | 0.000580548 |</pre>"
      ],
      "text/plain": [
       "| 37      | 53.12s       | 0.162656          | 0.403306              | 0.000580548 |"
      ]
     },
     "metadata": {},
     "output_type": "display_data"
    },
    {
     "data": {
      "text/html": [
       "<pre>| 38      | 54.86s       | 0.162573          | 0.403204              | 0.000580548 |</pre>"
      ],
      "text/plain": [
       "| 38      | 54.86s       | 0.162573          | 0.403204              | 0.000580548 |"
      ]
     },
     "metadata": {},
     "output_type": "display_data"
    },
    {
     "data": {
      "text/html": [
       "<pre>| 39      | 56.62s       | 0.162494          | 0.403105              | 0.000580548 |</pre>"
      ],
      "text/plain": [
       "| 39      | 56.62s       | 0.162494          | 0.403105              | 0.000580548 |"
      ]
     },
     "metadata": {},
     "output_type": "display_data"
    },
    {
     "data": {
      "text/html": [
       "<pre>| 40      | 58.42s       | 0.162414          | 0.403006              | 0.000580548 |</pre>"
      ],
      "text/plain": [
       "| 40      | 58.42s       | 0.162414          | 0.403006              | 0.000580548 |"
      ]
     },
     "metadata": {},
     "output_type": "display_data"
    },
    {
     "data": {
      "text/html": [
       "<pre>| 41      | 59.78s       | 0.162339          | 0.402913              | 0.000580548 |</pre>"
      ],
      "text/plain": [
       "| 41      | 59.78s       | 0.162339          | 0.402913              | 0.000580548 |"
      ]
     },
     "metadata": {},
     "output_type": "display_data"
    },
    {
     "data": {
      "text/html": [
       "<pre>| 42      | 1m 1s        | 0.162264          | 0.40282               | 0.000580548 |</pre>"
      ],
      "text/plain": [
       "| 42      | 1m 1s        | 0.162264          | 0.40282               | 0.000580548 |"
      ]
     },
     "metadata": {},
     "output_type": "display_data"
    },
    {
     "data": {
      "text/html": [
       "<pre>| 43      | 1m 2s        | 0.16219           | 0.402729              | 0.000580548 |</pre>"
      ],
      "text/plain": [
       "| 43      | 1m 2s        | 0.16219           | 0.402729              | 0.000580548 |"
      ]
     },
     "metadata": {},
     "output_type": "display_data"
    },
    {
     "data": {
      "text/html": [
       "<pre>| 44      | 1m 4s        | 0.162118          | 0.402639              | 0.000580548 |</pre>"
      ],
      "text/plain": [
       "| 44      | 1m 4s        | 0.162118          | 0.402639              | 0.000580548 |"
      ]
     },
     "metadata": {},
     "output_type": "display_data"
    },
    {
     "data": {
      "text/html": [
       "<pre>| 45      | 1m 6s        | 0.162049          | 0.402554              | 0.000580548 |</pre>"
      ],
      "text/plain": [
       "| 45      | 1m 6s        | 0.162049          | 0.402554              | 0.000580548 |"
      ]
     },
     "metadata": {},
     "output_type": "display_data"
    },
    {
     "data": {
      "text/html": [
       "<pre>| 46      | 1m 7s        | 0.161979          | 0.402466              | 0.000580548 |</pre>"
      ],
      "text/plain": [
       "| 46      | 1m 7s        | 0.161979          | 0.402466              | 0.000580548 |"
      ]
     },
     "metadata": {},
     "output_type": "display_data"
    },
    {
     "data": {
      "text/html": [
       "<pre>| 47      | 1m 9s        | 0.161914          | 0.402385              | 0.000580548 |</pre>"
      ],
      "text/plain": [
       "| 47      | 1m 9s        | 0.161914          | 0.402385              | 0.000580548 |"
      ]
     },
     "metadata": {},
     "output_type": "display_data"
    },
    {
     "data": {
      "text/html": [
       "<pre>| 48      | 1m 10s       | 0.161847          | 0.402302              | 0.000580548 |</pre>"
      ],
      "text/plain": [
       "| 48      | 1m 10s       | 0.161847          | 0.402302              | 0.000580548 |"
      ]
     },
     "metadata": {},
     "output_type": "display_data"
    },
    {
     "data": {
      "text/html": [
       "<pre>| 49      | 1m 12s       | 0.16178           | 0.402219              | 0.000580548 |</pre>"
      ],
      "text/plain": [
       "| 49      | 1m 12s       | 0.16178           | 0.402219              | 0.000580548 |"
      ]
     },
     "metadata": {},
     "output_type": "display_data"
    },
    {
     "data": {
      "text/html": [
       "<pre>| 50      | 1m 14s       | 0.161718          | 0.402142              | 0.000580548 |</pre>"
      ],
      "text/plain": [
       "| 50      | 1m 14s       | 0.161718          | 0.402142              | 0.000580548 |"
      ]
     },
     "metadata": {},
     "output_type": "display_data"
    },
    {
     "data": {
      "text/html": [
       "<pre>+---------+--------------+-------------------+-----------------------+-------------+</pre>"
      ],
      "text/plain": [
       "+---------+--------------+-------------------+-----------------------+-------------+"
      ]
     },
     "metadata": {},
     "output_type": "display_data"
    },
    {
     "data": {
      "text/html": [
       "<pre>Optimization Complete: Maximum number of passes through the data reached.</pre>"
      ],
      "text/plain": [
       "Optimization Complete: Maximum number of passes through the data reached."
      ]
     },
     "metadata": {},
     "output_type": "display_data"
    },
    {
     "data": {
      "text/html": [
       "<pre>Computing final objective value and training RMSE.</pre>"
      ],
      "text/plain": [
       "Computing final objective value and training RMSE."
      ]
     },
     "metadata": {},
     "output_type": "display_data"
    },
    {
     "data": {
      "text/html": [
       "<pre>       Final objective value: 0.161683</pre>"
      ],
      "text/plain": [
       "       Final objective value: 0.161683"
      ]
     },
     "metadata": {},
     "output_type": "display_data"
    },
    {
     "data": {
      "text/html": [
       "<pre>       Final training RMSE: 0.402099</pre>"
      ],
      "text/plain": [
       "       Final training RMSE: 0.402099"
      ]
     },
     "metadata": {},
     "output_type": "display_data"
    },
    {
     "data": {
      "text/html": [
       "<pre>Recsys training: model = factorization_recommender</pre>"
      ],
      "text/plain": [
       "Recsys training: model = factorization_recommender"
      ]
     },
     "metadata": {},
     "output_type": "display_data"
    },
    {
     "data": {
      "text/html": [
       "<pre>Preparing data set.</pre>"
      ],
      "text/plain": [
       "Preparing data set."
      ]
     },
     "metadata": {},
     "output_type": "display_data"
    },
    {
     "data": {
      "text/html": [
       "<pre>    Data has 1269155 observations with 31120 users and 60863 items.</pre>"
      ],
      "text/plain": [
       "    Data has 1269155 observations with 31120 users and 60863 items."
      ]
     },
     "metadata": {},
     "output_type": "display_data"
    },
    {
     "data": {
      "text/html": [
       "<pre>    Data prepared in: 4.04448s</pre>"
      ],
      "text/plain": [
       "    Data prepared in: 4.04448s"
      ]
     },
     "metadata": {},
     "output_type": "display_data"
    },
    {
     "data": {
      "text/html": [
       "<pre>Training factorization_recommender for recommendations.</pre>"
      ],
      "text/plain": [
       "Training factorization_recommender for recommendations."
      ]
     },
     "metadata": {},
     "output_type": "display_data"
    },
    {
     "data": {
      "text/html": [
       "<pre>+--------------------------------+--------------------------------------------------+----------+</pre>"
      ],
      "text/plain": [
       "+--------------------------------+--------------------------------------------------+----------+"
      ]
     },
     "metadata": {},
     "output_type": "display_data"
    },
    {
     "data": {
      "text/html": [
       "<pre>| Parameter                      | Description                                      | Value    |</pre>"
      ],
      "text/plain": [
       "| Parameter                      | Description                                      | Value    |"
      ]
     },
     "metadata": {},
     "output_type": "display_data"
    },
    {
     "data": {
      "text/html": [
       "<pre>+--------------------------------+--------------------------------------------------+----------+</pre>"
      ],
      "text/plain": [
       "+--------------------------------+--------------------------------------------------+----------+"
      ]
     },
     "metadata": {},
     "output_type": "display_data"
    },
    {
     "data": {
      "text/html": [
       "<pre>| num_factors                    | Factor Dimension                                 | 5        |</pre>"
      ],
      "text/plain": [
       "| num_factors                    | Factor Dimension                                 | 5        |"
      ]
     },
     "metadata": {},
     "output_type": "display_data"
    },
    {
     "data": {
      "text/html": [
       "<pre>| regularization                 | L2 Regularization on Factors                     | 0.01     |</pre>"
      ],
      "text/plain": [
       "| regularization                 | L2 Regularization on Factors                     | 0.01     |"
      ]
     },
     "metadata": {},
     "output_type": "display_data"
    },
    {
     "data": {
      "text/html": [
       "<pre>| solver                         | Solver used for training                         | adagrad  |</pre>"
      ],
      "text/plain": [
       "| solver                         | Solver used for training                         | adagrad  |"
      ]
     },
     "metadata": {},
     "output_type": "display_data"
    },
    {
     "data": {
      "text/html": [
       "<pre>| linear_regularization          | L2 Regularization on Linear Coefficients         | 1e-10    |</pre>"
      ],
      "text/plain": [
       "| linear_regularization          | L2 Regularization on Linear Coefficients         | 1e-10    |"
      ]
     },
     "metadata": {},
     "output_type": "display_data"
    },
    {
     "data": {
      "text/html": [
       "<pre>| side_data_factorization        | Assign Factors for Side Data                     | True     |</pre>"
      ],
      "text/plain": [
       "| side_data_factorization        | Assign Factors for Side Data                     | True     |"
      ]
     },
     "metadata": {},
     "output_type": "display_data"
    },
    {
     "data": {
      "text/html": [
       "<pre>| max_iterations                 | Maximum Number of Iterations                     | 50       |</pre>"
      ],
      "text/plain": [
       "| max_iterations                 | Maximum Number of Iterations                     | 50       |"
      ]
     },
     "metadata": {},
     "output_type": "display_data"
    },
    {
     "data": {
      "text/html": [
       "<pre>+--------------------------------+--------------------------------------------------+----------+</pre>"
      ],
      "text/plain": [
       "+--------------------------------+--------------------------------------------------+----------+"
      ]
     },
     "metadata": {},
     "output_type": "display_data"
    },
    {
     "data": {
      "text/html": [
       "<pre>  Optimizing model using SGD; tuning step size.</pre>"
      ],
      "text/plain": [
       "  Optimizing model using SGD; tuning step size."
      ]
     },
     "metadata": {},
     "output_type": "display_data"
    },
    {
     "data": {
      "text/html": [
       "<pre>  Using 158644 / 1269155 points for tuning the step size.</pre>"
      ],
      "text/plain": [
       "  Using 158644 / 1269155 points for tuning the step size."
      ]
     },
     "metadata": {},
     "output_type": "display_data"
    },
    {
     "data": {
      "text/html": [
       "<pre>+---------+-------------------+------------------------------------------+</pre>"
      ],
      "text/plain": [
       "+---------+-------------------+------------------------------------------+"
      ]
     },
     "metadata": {},
     "output_type": "display_data"
    },
    {
     "data": {
      "text/html": [
       "<pre>| Attempt | Initial Step Size | Estimated Objective Value                |</pre>"
      ],
      "text/plain": [
       "| Attempt | Initial Step Size | Estimated Objective Value                |"
      ]
     },
     "metadata": {},
     "output_type": "display_data"
    },
    {
     "data": {
      "text/html": [
       "<pre>+---------+-------------------+------------------------------------------+</pre>"
      ],
      "text/plain": [
       "+---------+-------------------+------------------------------------------+"
      ]
     },
     "metadata": {},
     "output_type": "display_data"
    },
    {
     "data": {
      "text/html": [
       "<pre>| 0       | 0.00580548        | 0.157865                                 |</pre>"
      ],
      "text/plain": [
       "| 0       | 0.00580548        | 0.157865                                 |"
      ]
     },
     "metadata": {},
     "output_type": "display_data"
    },
    {
     "data": {
      "text/html": [
       "<pre>| 1       | 0.00290274        | 0.164989                                 |</pre>"
      ],
      "text/plain": [
       "| 1       | 0.00290274        | 0.164989                                 |"
      ]
     },
     "metadata": {},
     "output_type": "display_data"
    },
    {
     "data": {
      "text/html": [
       "<pre>| 2       | 0.00145137        | 0.173228                                 |</pre>"
      ],
      "text/plain": [
       "| 2       | 0.00145137        | 0.173228                                 |"
      ]
     },
     "metadata": {},
     "output_type": "display_data"
    },
    {
     "data": {
      "text/html": [
       "<pre>| 3       | 0.000725685       | 0.187608                                 |</pre>"
      ],
      "text/plain": [
       "| 3       | 0.000725685       | 0.187608                                 |"
      ]
     },
     "metadata": {},
     "output_type": "display_data"
    },
    {
     "data": {
      "text/html": [
       "<pre>+---------+-------------------+------------------------------------------+</pre>"
      ],
      "text/plain": [
       "+---------+-------------------+------------------------------------------+"
      ]
     },
     "metadata": {},
     "output_type": "display_data"
    },
    {
     "data": {
      "text/html": [
       "<pre>| Final   | 0.00580548        | 0.157865                                 |</pre>"
      ],
      "text/plain": [
       "| Final   | 0.00580548        | 0.157865                                 |"
      ]
     },
     "metadata": {},
     "output_type": "display_data"
    },
    {
     "data": {
      "text/html": [
       "<pre>+---------+-------------------+------------------------------------------+</pre>"
      ],
      "text/plain": [
       "+---------+-------------------+------------------------------------------+"
      ]
     },
     "metadata": {},
     "output_type": "display_data"
    },
    {
     "data": {
      "text/html": [
       "<pre>Starting Optimization.</pre>"
      ],
      "text/plain": [
       "Starting Optimization."
      ]
     },
     "metadata": {},
     "output_type": "display_data"
    },
    {
     "data": {
      "text/html": [
       "<pre>+---------+--------------+-------------------+-----------------------+-------------+</pre>"
      ],
      "text/plain": [
       "+---------+--------------+-------------------+-----------------------+-------------+"
      ]
     },
     "metadata": {},
     "output_type": "display_data"
    },
    {
     "data": {
      "text/html": [
       "<pre>| Iter.   | Elapsed Time | Approx. Objective | Approx. Training RMSE | Step Size   |</pre>"
      ],
      "text/plain": [
       "| Iter.   | Elapsed Time | Approx. Objective | Approx. Training RMSE | Step Size   |"
      ]
     },
     "metadata": {},
     "output_type": "display_data"
    },
    {
     "data": {
      "text/html": [
       "<pre>+---------+--------------+-------------------+-----------------------+-------------+</pre>"
      ],
      "text/plain": [
       "+---------+--------------+-------------------+-----------------------+-------------+"
      ]
     },
     "metadata": {},
     "output_type": "display_data"
    },
    {
     "data": {
      "text/html": [
       "<pre>| Initial | 178us        | 0.520208          | 0.721242              |             |</pre>"
      ],
      "text/plain": [
       "| Initial | 178us        | 0.520208          | 0.721242              |             |"
      ]
     },
     "metadata": {},
     "output_type": "display_data"
    },
    {
     "data": {
      "text/html": [
       "<pre>+---------+--------------+-------------------+-----------------------+-------------+</pre>"
      ],
      "text/plain": [
       "+---------+--------------+-------------------+-----------------------+-------------+"
      ]
     },
     "metadata": {},
     "output_type": "display_data"
    },
    {
     "data": {
      "text/html": [
       "<pre>| 1       | 1.56s        | 0.166372          | 0.407114              | 0.00580548  |</pre>"
      ],
      "text/plain": [
       "| 1       | 1.56s        | 0.166372          | 0.407114              | 0.00580548  |"
      ]
     },
     "metadata": {},
     "output_type": "display_data"
    },
    {
     "data": {
      "text/html": [
       "<pre>| 2       | 4.11s        | 0.160098          | 0.400122              | 0.00580548  |</pre>"
      ],
      "text/plain": [
       "| 2       | 4.11s        | 0.160098          | 0.400122              | 0.00580548  |"
      ]
     },
     "metadata": {},
     "output_type": "display_data"
    },
    {
     "data": {
      "text/html": [
       "<pre>| 3       | 5.71s        | 0.158488          | 0.398105              | 0.00580548  |</pre>"
      ],
      "text/plain": [
       "| 3       | 5.71s        | 0.158488          | 0.398105              | 0.00580548  |"
      ]
     },
     "metadata": {},
     "output_type": "display_data"
    },
    {
     "data": {
      "text/html": [
       "<pre>| 4       | 7.02s        | 0.157481          | 0.396839              | 0.00580548  |</pre>"
      ],
      "text/plain": [
       "| 4       | 7.02s        | 0.157481          | 0.396839              | 0.00580548  |"
      ]
     },
     "metadata": {},
     "output_type": "display_data"
    },
    {
     "data": {
      "text/html": [
       "<pre>| 5       | 8.30s        | 0.156799          | 0.395978              | 0.00580548  |</pre>"
      ],
      "text/plain": [
       "| 5       | 8.30s        | 0.156799          | 0.395978              | 0.00580548  |"
      ]
     },
     "metadata": {},
     "output_type": "display_data"
    },
    {
     "data": {
      "text/html": [
       "<pre>| 6       | 9.50s        | 0.156272          | 0.395312              | 0.00580548  |</pre>"
      ],
      "text/plain": [
       "| 6       | 9.50s        | 0.156272          | 0.395312              | 0.00580548  |"
      ]
     },
     "metadata": {},
     "output_type": "display_data"
    },
    {
     "data": {
      "text/html": [
       "<pre>| 7       | 10.71s       | 0.15582           | 0.394741              | 0.00580548  |</pre>"
      ],
      "text/plain": [
       "| 7       | 10.71s       | 0.15582           | 0.394741              | 0.00580548  |"
      ]
     },
     "metadata": {},
     "output_type": "display_data"
    },
    {
     "data": {
      "text/html": [
       "<pre>| 8       | 11.90s       | 0.155491          | 0.394323              | 0.00580548  |</pre>"
      ],
      "text/plain": [
       "| 8       | 11.90s       | 0.155491          | 0.394323              | 0.00580548  |"
      ]
     },
     "metadata": {},
     "output_type": "display_data"
    },
    {
     "data": {
      "text/html": [
       "<pre>| 9       | 13.31s       | 0.155187          | 0.393938              | 0.00580548  |</pre>"
      ],
      "text/plain": [
       "| 9       | 13.31s       | 0.155187          | 0.393938              | 0.00580548  |"
      ]
     },
     "metadata": {},
     "output_type": "display_data"
    },
    {
     "data": {
      "text/html": [
       "<pre>| 10      | 14.75s       | 0.154929          | 0.393611              | 0.00580548  |</pre>"
      ],
      "text/plain": [
       "| 10      | 14.75s       | 0.154929          | 0.393611              | 0.00580548  |"
      ]
     },
     "metadata": {},
     "output_type": "display_data"
    },
    {
     "data": {
      "text/html": [
       "<pre>| 11      | 16.05s       | 0.154716          | 0.39334               | 0.00580548  |</pre>"
      ],
      "text/plain": [
       "| 11      | 16.05s       | 0.154716          | 0.39334               | 0.00580548  |"
      ]
     },
     "metadata": {},
     "output_type": "display_data"
    },
    {
     "data": {
      "text/html": [
       "<pre>| 12      | 17.30s       | 0.154502          | 0.393067              | 0.00580548  |</pre>"
      ],
      "text/plain": [
       "| 12      | 17.30s       | 0.154502          | 0.393067              | 0.00580548  |"
      ]
     },
     "metadata": {},
     "output_type": "display_data"
    },
    {
     "data": {
      "text/html": [
       "<pre>| 13      | 18.59s       | 0.154338          | 0.392858              | 0.00580548  |</pre>"
      ],
      "text/plain": [
       "| 13      | 18.59s       | 0.154338          | 0.392858              | 0.00580548  |"
      ]
     },
     "metadata": {},
     "output_type": "display_data"
    },
    {
     "data": {
      "text/html": [
       "<pre>| 14      | 19.84s       | 0.15419           | 0.39267               | 0.00580548  |</pre>"
      ],
      "text/plain": [
       "| 14      | 19.84s       | 0.15419           | 0.39267               | 0.00580548  |"
      ]
     },
     "metadata": {},
     "output_type": "display_data"
    },
    {
     "data": {
      "text/html": [
       "<pre>| 15      | 21.09s       | 0.154047          | 0.392488              | 0.00580548  |</pre>"
      ],
      "text/plain": [
       "| 15      | 21.09s       | 0.154047          | 0.392488              | 0.00580548  |"
      ]
     },
     "metadata": {},
     "output_type": "display_data"
    },
    {
     "data": {
      "text/html": [
       "<pre>| 16      | 22.30s       | 0.153904          | 0.392307              | 0.00580548  |</pre>"
      ],
      "text/plain": [
       "| 16      | 22.30s       | 0.153904          | 0.392307              | 0.00580548  |"
      ]
     },
     "metadata": {},
     "output_type": "display_data"
    },
    {
     "data": {
      "text/html": [
       "<pre>| 17      | 23.65s       | 0.153784          | 0.392153              | 0.00580548  |</pre>"
      ],
      "text/plain": [
       "| 17      | 23.65s       | 0.153784          | 0.392153              | 0.00580548  |"
      ]
     },
     "metadata": {},
     "output_type": "display_data"
    },
    {
     "data": {
      "text/html": [
       "<pre>| 18      | 24.96s       | 0.15369           | 0.392033              | 0.00580548  |</pre>"
      ],
      "text/plain": [
       "| 18      | 24.96s       | 0.15369           | 0.392033              | 0.00580548  |"
      ]
     },
     "metadata": {},
     "output_type": "display_data"
    },
    {
     "data": {
      "text/html": [
       "<pre>| 19      | 26.28s       | 0.153544          | 0.391847              | 0.00580548  |</pre>"
      ],
      "text/plain": [
       "| 19      | 26.28s       | 0.153544          | 0.391847              | 0.00580548  |"
      ]
     },
     "metadata": {},
     "output_type": "display_data"
    },
    {
     "data": {
      "text/html": [
       "<pre>| 20      | 27.65s       | 0.153473          | 0.391756              | 0.00580548  |</pre>"
      ],
      "text/plain": [
       "| 20      | 27.65s       | 0.153473          | 0.391756              | 0.00580548  |"
      ]
     },
     "metadata": {},
     "output_type": "display_data"
    },
    {
     "data": {
      "text/html": [
       "<pre>| 21      | 29.04s       | 0.15342           | 0.391689              | 0.00580548  |</pre>"
      ],
      "text/plain": [
       "| 21      | 29.04s       | 0.15342           | 0.391689              | 0.00580548  |"
      ]
     },
     "metadata": {},
     "output_type": "display_data"
    },
    {
     "data": {
      "text/html": [
       "<pre>| 22      | 30.24s       | 0.153318          | 0.391558              | 0.00580548  |</pre>"
      ],
      "text/plain": [
       "| 22      | 30.24s       | 0.153318          | 0.391558              | 0.00580548  |"
      ]
     },
     "metadata": {},
     "output_type": "display_data"
    },
    {
     "data": {
      "text/html": [
       "<pre>| 23      | 31.62s       | 0.153249          | 0.391471              | 0.00580548  |</pre>"
      ],
      "text/plain": [
       "| 23      | 31.62s       | 0.153249          | 0.391471              | 0.00580548  |"
      ]
     },
     "metadata": {},
     "output_type": "display_data"
    },
    {
     "data": {
      "text/html": [
       "<pre>| 24      | 32.89s       | 0.153163          | 0.391361              | 0.00580548  |</pre>"
      ],
      "text/plain": [
       "| 24      | 32.89s       | 0.153163          | 0.391361              | 0.00580548  |"
      ]
     },
     "metadata": {},
     "output_type": "display_data"
    },
    {
     "data": {
      "text/html": [
       "<pre>| 25      | 34.29s       | 0.153093          | 0.391272              | 0.00580548  |</pre>"
      ],
      "text/plain": [
       "| 25      | 34.29s       | 0.153093          | 0.391272              | 0.00580548  |"
      ]
     },
     "metadata": {},
     "output_type": "display_data"
    },
    {
     "data": {
      "text/html": [
       "<pre>| 26      | 35.70s       | 0.153016          | 0.391172              | 0.00580548  |</pre>"
      ],
      "text/plain": [
       "| 26      | 35.70s       | 0.153016          | 0.391172              | 0.00580548  |"
      ]
     },
     "metadata": {},
     "output_type": "display_data"
    },
    {
     "data": {
      "text/html": [
       "<pre>| 27      | 36.94s       | 0.152955          | 0.391094              | 0.00580548  |</pre>"
      ],
      "text/plain": [
       "| 27      | 36.94s       | 0.152955          | 0.391094              | 0.00580548  |"
      ]
     },
     "metadata": {},
     "output_type": "display_data"
    },
    {
     "data": {
      "text/html": [
       "<pre>| 28      | 38.52s       | 0.152898          | 0.391021              | 0.00580548  |</pre>"
      ],
      "text/plain": [
       "| 28      | 38.52s       | 0.152898          | 0.391021              | 0.00580548  |"
      ]
     },
     "metadata": {},
     "output_type": "display_data"
    },
    {
     "data": {
      "text/html": [
       "<pre>| 29      | 40.15s       | 0.152855          | 0.390967              | 0.00580548  |</pre>"
      ],
      "text/plain": [
       "| 29      | 40.15s       | 0.152855          | 0.390967              | 0.00580548  |"
      ]
     },
     "metadata": {},
     "output_type": "display_data"
    },
    {
     "data": {
      "text/html": [
       "<pre>| 30      | 41.49s       | 0.152803          | 0.390901              | 0.00580548  |</pre>"
      ],
      "text/plain": [
       "| 30      | 41.49s       | 0.152803          | 0.390901              | 0.00580548  |"
      ]
     },
     "metadata": {},
     "output_type": "display_data"
    },
    {
     "data": {
      "text/html": [
       "<pre>| 31      | 42.76s       | 0.152692          | 0.390758              | 0.00580548  |</pre>"
      ],
      "text/plain": [
       "| 31      | 42.76s       | 0.152692          | 0.390758              | 0.00580548  |"
      ]
     },
     "metadata": {},
     "output_type": "display_data"
    },
    {
     "data": {
      "text/html": [
       "<pre>| 32      | 44.00s       | 0.1527            | 0.390769              | 0.00580548  |</pre>"
      ],
      "text/plain": [
       "| 32      | 44.00s       | 0.1527            | 0.390769              | 0.00580548  |"
      ]
     },
     "metadata": {},
     "output_type": "display_data"
    },
    {
     "data": {
      "text/html": [
       "<pre>| 33      | 45.25s       | 0.152582          | 0.390617              | 0.00580548  |</pre>"
      ],
      "text/plain": [
       "| 33      | 45.25s       | 0.152582          | 0.390617              | 0.00580548  |"
      ]
     },
     "metadata": {},
     "output_type": "display_data"
    },
    {
     "data": {
      "text/html": [
       "<pre>| 34      | 46.53s       | 0.152587          | 0.390624              | 0.00580548  |</pre>"
      ],
      "text/plain": [
       "| 34      | 46.53s       | 0.152587          | 0.390624              | 0.00580548  |"
      ]
     },
     "metadata": {},
     "output_type": "display_data"
    },
    {
     "data": {
      "text/html": [
       "<pre>| 35      | 47.79s       | 0.152545          | 0.39057               | 0.00580548  |</pre>"
      ],
      "text/plain": [
       "| 35      | 47.79s       | 0.152545          | 0.39057               | 0.00580548  |"
      ]
     },
     "metadata": {},
     "output_type": "display_data"
    },
    {
     "data": {
      "text/html": [
       "<pre>| 36      | 49.04s       | 0.152498          | 0.39051               | 0.00580548  |</pre>"
      ],
      "text/plain": [
       "| 36      | 49.04s       | 0.152498          | 0.39051               | 0.00580548  |"
      ]
     },
     "metadata": {},
     "output_type": "display_data"
    },
    {
     "data": {
      "text/html": [
       "<pre>| 37      | 50.35s       | 0.152467          | 0.39047               | 0.00580548  |</pre>"
      ],
      "text/plain": [
       "| 37      | 50.35s       | 0.152467          | 0.39047               | 0.00580548  |"
      ]
     },
     "metadata": {},
     "output_type": "display_data"
    },
    {
     "data": {
      "text/html": [
       "<pre>| 38      | 51.58s       | 0.152429          | 0.390422              | 0.00580548  |</pre>"
      ],
      "text/plain": [
       "| 38      | 51.58s       | 0.152429          | 0.390422              | 0.00580548  |"
      ]
     },
     "metadata": {},
     "output_type": "display_data"
    },
    {
     "data": {
      "text/html": [
       "<pre>| 39      | 52.76s       | 0.152389          | 0.390371              | 0.00580548  |</pre>"
      ],
      "text/plain": [
       "| 39      | 52.76s       | 0.152389          | 0.390371              | 0.00580548  |"
      ]
     },
     "metadata": {},
     "output_type": "display_data"
    },
    {
     "data": {
      "text/html": [
       "<pre>| 40      | 53.96s       | 0.152331          | 0.390296              | 0.00580548  |</pre>"
      ],
      "text/plain": [
       "| 40      | 53.96s       | 0.152331          | 0.390296              | 0.00580548  |"
      ]
     },
     "metadata": {},
     "output_type": "display_data"
    },
    {
     "data": {
      "text/html": [
       "<pre>| 41      | 55.17s       | 0.152315          | 0.390276              | 0.00580548  |</pre>"
      ],
      "text/plain": [
       "| 41      | 55.17s       | 0.152315          | 0.390276              | 0.00580548  |"
      ]
     },
     "metadata": {},
     "output_type": "display_data"
    },
    {
     "data": {
      "text/html": [
       "<pre>| 42      | 56.39s       | 0.152278          | 0.390228              | 0.00580548  |</pre>"
      ],
      "text/plain": [
       "| 42      | 56.39s       | 0.152278          | 0.390228              | 0.00580548  |"
      ]
     },
     "metadata": {},
     "output_type": "display_data"
    },
    {
     "data": {
      "text/html": [
       "<pre>| 43      | 57.58s       | 0.152245          | 0.390185              | 0.00580548  |</pre>"
      ],
      "text/plain": [
       "| 43      | 57.58s       | 0.152245          | 0.390185              | 0.00580548  |"
      ]
     },
     "metadata": {},
     "output_type": "display_data"
    },
    {
     "data": {
      "text/html": [
       "<pre>| 44      | 58.79s       | 0.15221           | 0.390141              | 0.00580548  |</pre>"
      ],
      "text/plain": [
       "| 44      | 58.79s       | 0.15221           | 0.390141              | 0.00580548  |"
      ]
     },
     "metadata": {},
     "output_type": "display_data"
    },
    {
     "data": {
      "text/html": [
       "<pre>| 45      | 1m 0s        | 0.152178          | 0.3901                | 0.00580548  |</pre>"
      ],
      "text/plain": [
       "| 45      | 1m 0s        | 0.152178          | 0.3901                | 0.00580548  |"
      ]
     },
     "metadata": {},
     "output_type": "display_data"
    },
    {
     "data": {
      "text/html": [
       "<pre>| 46      | 1m 1s        | 0.15212           | 0.390026              | 0.00580548  |</pre>"
      ],
      "text/plain": [
       "| 46      | 1m 1s        | 0.15212           | 0.390026              | 0.00580548  |"
      ]
     },
     "metadata": {},
     "output_type": "display_data"
    },
    {
     "data": {
      "text/html": [
       "<pre>| 47      | 1m 2s        | 0.152111          | 0.390014              | 0.00580548  |</pre>"
      ],
      "text/plain": [
       "| 47      | 1m 2s        | 0.152111          | 0.390014              | 0.00580548  |"
      ]
     },
     "metadata": {},
     "output_type": "display_data"
    },
    {
     "data": {
      "text/html": [
       "<pre>| 48      | 1m 3s        | 0.152081          | 0.389975              | 0.00580548  |</pre>"
      ],
      "text/plain": [
       "| 48      | 1m 3s        | 0.152081          | 0.389975              | 0.00580548  |"
      ]
     },
     "metadata": {},
     "output_type": "display_data"
    },
    {
     "data": {
      "text/html": [
       "<pre>| 49      | 1m 5s        | 0.152047          | 0.389932              | 0.00580548  |</pre>"
      ],
      "text/plain": [
       "| 49      | 1m 5s        | 0.152047          | 0.389932              | 0.00580548  |"
      ]
     },
     "metadata": {},
     "output_type": "display_data"
    },
    {
     "data": {
      "text/html": [
       "<pre>| 50      | 1m 6s        | 0.152001          | 0.389873              | 0.00580548  |</pre>"
      ],
      "text/plain": [
       "| 50      | 1m 6s        | 0.152001          | 0.389873              | 0.00580548  |"
      ]
     },
     "metadata": {},
     "output_type": "display_data"
    },
    {
     "data": {
      "text/html": [
       "<pre>+---------+--------------+-------------------+-----------------------+-------------+</pre>"
      ],
      "text/plain": [
       "+---------+--------------+-------------------+-----------------------+-------------+"
      ]
     },
     "metadata": {},
     "output_type": "display_data"
    },
    {
     "data": {
      "text/html": [
       "<pre>Optimization Complete: Maximum number of passes through the data reached.</pre>"
      ],
      "text/plain": [
       "Optimization Complete: Maximum number of passes through the data reached."
      ]
     },
     "metadata": {},
     "output_type": "display_data"
    },
    {
     "data": {
      "text/html": [
       "<pre>Computing final objective value and training RMSE.</pre>"
      ],
      "text/plain": [
       "Computing final objective value and training RMSE."
      ]
     },
     "metadata": {},
     "output_type": "display_data"
    },
    {
     "data": {
      "text/html": [
       "<pre>       Final objective value: 0.151982</pre>"
      ],
      "text/plain": [
       "       Final objective value: 0.151982"
      ]
     },
     "metadata": {},
     "output_type": "display_data"
    },
    {
     "data": {
      "text/html": [
       "<pre>       Final training RMSE: 0.389849</pre>"
      ],
      "text/plain": [
       "       Final training RMSE: 0.389849"
      ]
     },
     "metadata": {},
     "output_type": "display_data"
    },
    {
     "data": {
      "text/html": [
       "<pre>Recsys training: model = factorization_recommender</pre>"
      ],
      "text/plain": [
       "Recsys training: model = factorization_recommender"
      ]
     },
     "metadata": {},
     "output_type": "display_data"
    },
    {
     "data": {
      "text/html": [
       "<pre>Preparing data set.</pre>"
      ],
      "text/plain": [
       "Preparing data set."
      ]
     },
     "metadata": {},
     "output_type": "display_data"
    },
    {
     "data": {
      "text/html": [
       "<pre>    Data has 1269155 observations with 31120 users and 60863 items.</pre>"
      ],
      "text/plain": [
       "    Data has 1269155 observations with 31120 users and 60863 items."
      ]
     },
     "metadata": {},
     "output_type": "display_data"
    },
    {
     "data": {
      "text/html": [
       "<pre>    Data prepared in: 3.56028s</pre>"
      ],
      "text/plain": [
       "    Data prepared in: 3.56028s"
      ]
     },
     "metadata": {},
     "output_type": "display_data"
    },
    {
     "data": {
      "text/html": [
       "<pre>Training factorization_recommender for recommendations.</pre>"
      ],
      "text/plain": [
       "Training factorization_recommender for recommendations."
      ]
     },
     "metadata": {},
     "output_type": "display_data"
    },
    {
     "data": {
      "text/html": [
       "<pre>+--------------------------------+--------------------------------------------------+----------+</pre>"
      ],
      "text/plain": [
       "+--------------------------------+--------------------------------------------------+----------+"
      ]
     },
     "metadata": {},
     "output_type": "display_data"
    },
    {
     "data": {
      "text/html": [
       "<pre>| Parameter                      | Description                                      | Value    |</pre>"
      ],
      "text/plain": [
       "| Parameter                      | Description                                      | Value    |"
      ]
     },
     "metadata": {},
     "output_type": "display_data"
    },
    {
     "data": {
      "text/html": [
       "<pre>+--------------------------------+--------------------------------------------------+----------+</pre>"
      ],
      "text/plain": [
       "+--------------------------------+--------------------------------------------------+----------+"
      ]
     },
     "metadata": {},
     "output_type": "display_data"
    },
    {
     "data": {
      "text/html": [
       "<pre>| num_factors                    | Factor Dimension                                 | 5        |</pre>"
      ],
      "text/plain": [
       "| num_factors                    | Factor Dimension                                 | 5        |"
      ]
     },
     "metadata": {},
     "output_type": "display_data"
    },
    {
     "data": {
      "text/html": [
       "<pre>| regularization                 | L2 Regularization on Factors                     | 0.001    |</pre>"
      ],
      "text/plain": [
       "| regularization                 | L2 Regularization on Factors                     | 0.001    |"
      ]
     },
     "metadata": {},
     "output_type": "display_data"
    },
    {
     "data": {
      "text/html": [
       "<pre>| solver                         | Solver used for training                         | adagrad  |</pre>"
      ],
      "text/plain": [
       "| solver                         | Solver used for training                         | adagrad  |"
      ]
     },
     "metadata": {},
     "output_type": "display_data"
    },
    {
     "data": {
      "text/html": [
       "<pre>| linear_regularization          | L2 Regularization on Linear Coefficients         | 1e-10    |</pre>"
      ],
      "text/plain": [
       "| linear_regularization          | L2 Regularization on Linear Coefficients         | 1e-10    |"
      ]
     },
     "metadata": {},
     "output_type": "display_data"
    },
    {
     "data": {
      "text/html": [
       "<pre>| side_data_factorization        | Assign Factors for Side Data                     | True     |</pre>"
      ],
      "text/plain": [
       "| side_data_factorization        | Assign Factors for Side Data                     | True     |"
      ]
     },
     "metadata": {},
     "output_type": "display_data"
    },
    {
     "data": {
      "text/html": [
       "<pre>| max_iterations                 | Maximum Number of Iterations                     | 50       |</pre>"
      ],
      "text/plain": [
       "| max_iterations                 | Maximum Number of Iterations                     | 50       |"
      ]
     },
     "metadata": {},
     "output_type": "display_data"
    },
    {
     "data": {
      "text/html": [
       "<pre>+--------------------------------+--------------------------------------------------+----------+</pre>"
      ],
      "text/plain": [
       "+--------------------------------+--------------------------------------------------+----------+"
      ]
     },
     "metadata": {},
     "output_type": "display_data"
    },
    {
     "data": {
      "text/html": [
       "<pre>  Optimizing model using SGD; tuning step size.</pre>"
      ],
      "text/plain": [
       "  Optimizing model using SGD; tuning step size."
      ]
     },
     "metadata": {},
     "output_type": "display_data"
    },
    {
     "data": {
      "text/html": [
       "<pre>  Using 158644 / 1269155 points for tuning the step size.</pre>"
      ],
      "text/plain": [
       "  Using 158644 / 1269155 points for tuning the step size."
      ]
     },
     "metadata": {},
     "output_type": "display_data"
    },
    {
     "data": {
      "text/html": [
       "<pre>+---------+-------------------+------------------------------------------+</pre>"
      ],
      "text/plain": [
       "+---------+-------------------+------------------------------------------+"
      ]
     },
     "metadata": {},
     "output_type": "display_data"
    },
    {
     "data": {
      "text/html": [
       "<pre>| Attempt | Initial Step Size | Estimated Objective Value                |</pre>"
      ],
      "text/plain": [
       "| Attempt | Initial Step Size | Estimated Objective Value                |"
      ]
     },
     "metadata": {},
     "output_type": "display_data"
    },
    {
     "data": {
      "text/html": [
       "<pre>+---------+-------------------+------------------------------------------+</pre>"
      ],
      "text/plain": [
       "+---------+-------------------+------------------------------------------+"
      ]
     },
     "metadata": {},
     "output_type": "display_data"
    },
    {
     "data": {
      "text/html": [
       "<pre>| 0       | 0.0580548         | Not Viable                               |</pre>"
      ],
      "text/plain": [
       "| 0       | 0.0580548         | Not Viable                               |"
      ]
     },
     "metadata": {},
     "output_type": "display_data"
    },
    {
     "data": {
      "text/html": [
       "<pre>| 1       | 0.0145137         | Not Viable                               |</pre>"
      ],
      "text/plain": [
       "| 1       | 0.0145137         | Not Viable                               |"
      ]
     },
     "metadata": {},
     "output_type": "display_data"
    },
    {
     "data": {
      "text/html": [
       "<pre>| 2       | 0.00362843        | Not Viable                               |</pre>"
      ],
      "text/plain": [
       "| 2       | 0.00362843        | Not Viable                               |"
      ]
     },
     "metadata": {},
     "output_type": "display_data"
    },
    {
     "data": {
      "text/html": [
       "<pre>| 3       | 0.000907107       | Not Viable                               |</pre>"
      ],
      "text/plain": [
       "| 3       | 0.000907107       | Not Viable                               |"
      ]
     },
     "metadata": {},
     "output_type": "display_data"
    },
    {
     "data": {
      "text/html": [
       "<pre>| 4       | 0.000226777       | No Decrease (0.881673 >= 0.519142)       |</pre>"
      ],
      "text/plain": [
       "| 4       | 0.000226777       | No Decrease (0.881673 >= 0.519142)       |"
      ]
     },
     "metadata": {},
     "output_type": "display_data"
    },
    {
     "data": {
      "text/html": [
       "<pre>| 5       | 5.66942e-05       | 0.462647                                 |</pre>"
      ],
      "text/plain": [
       "| 5       | 5.66942e-05       | 0.462647                                 |"
      ]
     },
     "metadata": {},
     "output_type": "display_data"
    },
    {
     "data": {
      "text/html": [
       "<pre>| 6       | 2.83471e-05       | 0.47846                                  |</pre>"
      ],
      "text/plain": [
       "| 6       | 2.83471e-05       | 0.47846                                  |"
      ]
     },
     "metadata": {},
     "output_type": "display_data"
    },
    {
     "data": {
      "text/html": [
       "<pre>| 7       | 1.41735e-05       | 0.49627                                  |</pre>"
      ],
      "text/plain": [
       "| 7       | 1.41735e-05       | 0.49627                                  |"
      ]
     },
     "metadata": {},
     "output_type": "display_data"
    },
    {
     "data": {
      "text/html": [
       "<pre>| 8       | 7.08677e-06       | 0.506666                                 |</pre>"
      ],
      "text/plain": [
       "| 8       | 7.08677e-06       | 0.506666                                 |"
      ]
     },
     "metadata": {},
     "output_type": "display_data"
    },
    {
     "data": {
      "text/html": [
       "<pre>+---------+-------------------+------------------------------------------+</pre>"
      ],
      "text/plain": [
       "+---------+-------------------+------------------------------------------+"
      ]
     },
     "metadata": {},
     "output_type": "display_data"
    },
    {
     "data": {
      "text/html": [
       "<pre>| Final   | 5.66942e-05       | 0.462647                                 |</pre>"
      ],
      "text/plain": [
       "| Final   | 5.66942e-05       | 0.462647                                 |"
      ]
     },
     "metadata": {},
     "output_type": "display_data"
    },
    {
     "data": {
      "text/html": [
       "<pre>+---------+-------------------+------------------------------------------+</pre>"
      ],
      "text/plain": [
       "+---------+-------------------+------------------------------------------+"
      ]
     },
     "metadata": {},
     "output_type": "display_data"
    },
    {
     "data": {
      "text/html": [
       "<pre>Starting Optimization.</pre>"
      ],
      "text/plain": [
       "Starting Optimization."
      ]
     },
     "metadata": {},
     "output_type": "display_data"
    },
    {
     "data": {
      "text/html": [
       "<pre>+---------+--------------+-------------------+-----------------------+-------------+</pre>"
      ],
      "text/plain": [
       "+---------+--------------+-------------------+-----------------------+-------------+"
      ]
     },
     "metadata": {},
     "output_type": "display_data"
    },
    {
     "data": {
      "text/html": [
       "<pre>| Iter.   | Elapsed Time | Approx. Objective | Approx. Training RMSE | Step Size   |</pre>"
      ],
      "text/plain": [
       "| Iter.   | Elapsed Time | Approx. Objective | Approx. Training RMSE | Step Size   |"
      ]
     },
     "metadata": {},
     "output_type": "display_data"
    },
    {
     "data": {
      "text/html": [
       "<pre>+---------+--------------+-------------------+-----------------------+-------------+</pre>"
      ],
      "text/plain": [
       "+---------+--------------+-------------------+-----------------------+-------------+"
      ]
     },
     "metadata": {},
     "output_type": "display_data"
    },
    {
     "data": {
      "text/html": [
       "<pre>| Initial | 1.976ms      | 0.520186          | 0.721238              |             |</pre>"
      ],
      "text/plain": [
       "| Initial | 1.976ms      | 0.520186          | 0.721238              |             |"
      ]
     },
     "metadata": {},
     "output_type": "display_data"
    },
    {
     "data": {
      "text/html": [
       "<pre>+---------+--------------+-------------------+-----------------------+-------------+</pre>"
      ],
      "text/plain": [
       "+---------+--------------+-------------------+-----------------------+-------------+"
      ]
     },
     "metadata": {},
     "output_type": "display_data"
    },
    {
     "data": {
      "text/html": [
       "<pre>| 1       | 1.62s        | 0.470603          | 0.685907              | 5.66942e-05 |</pre>"
      ],
      "text/plain": [
       "| 1       | 1.62s        | 0.470603          | 0.685907              | 5.66942e-05 |"
      ]
     },
     "metadata": {},
     "output_type": "display_data"
    },
    {
     "data": {
      "text/html": [
       "<pre>| 2       | 3.13s        | 0.471025          | 0.686135              | 5.66942e-05 |</pre>"
      ],
      "text/plain": [
       "| 2       | 3.13s        | 0.471025          | 0.686135              | 5.66942e-05 |"
      ]
     },
     "metadata": {},
     "output_type": "display_data"
    },
    {
     "data": {
      "text/html": [
       "<pre>| 3       | 4.44s        | 0.499123          | 0.706242              | 5.66942e-05 |</pre>"
      ],
      "text/plain": [
       "| 3       | 4.44s        | 0.499123          | 0.706242              | 5.66942e-05 |"
      ]
     },
     "metadata": {},
     "output_type": "display_data"
    },
    {
     "data": {
      "text/html": [
       "<pre>| 4       | 5.71s        | 0.539563          | 0.734253              | 5.66942e-05 |</pre>"
      ],
      "text/plain": [
       "| 4       | 5.71s        | 0.539563          | 0.734253              | 5.66942e-05 |"
      ]
     },
     "metadata": {},
     "output_type": "display_data"
    },
    {
     "data": {
      "text/html": [
       "<pre>| 5       | 7.07s        | 0.58808           | 0.766524              | 5.66942e-05 |</pre>"
      ],
      "text/plain": [
       "| 5       | 7.07s        | 0.58808           | 0.766524              | 5.66942e-05 |"
      ]
     },
     "metadata": {},
     "output_type": "display_data"
    },
    {
     "data": {
      "text/html": [
       "<pre>| 6       | 8.42s        | 0.642156          | 0.800972              | 5.66942e-05 |</pre>"
      ],
      "text/plain": [
       "| 6       | 8.42s        | 0.642156          | 0.800972              | 5.66942e-05 |"
      ]
     },
     "metadata": {},
     "output_type": "display_data"
    },
    {
     "data": {
      "text/html": [
       "<pre>| 7       | 9.73s        | 0.699886          | 0.836189              | 5.66942e-05 |</pre>"
      ],
      "text/plain": [
       "| 7       | 9.73s        | 0.699886          | 0.836189              | 5.66942e-05 |"
      ]
     },
     "metadata": {},
     "output_type": "display_data"
    },
    {
     "data": {
      "text/html": [
       "<pre>| 8       | 11.01s       | 0.759958          | 0.871328              | 5.66942e-05 |</pre>"
      ],
      "text/plain": [
       "| 8       | 11.01s       | 0.759958          | 0.871328              | 5.66942e-05 |"
      ]
     },
     "metadata": {},
     "output_type": "display_data"
    },
    {
     "data": {
      "text/html": [
       "<pre>| 9       | 12.81s       | DIVERGED          | DIVERGED              | 5.66942e-05 |</pre>"
      ],
      "text/plain": [
       "| 9       | 12.81s       | DIVERGED          | DIVERGED              | 5.66942e-05 |"
      ]
     },
     "metadata": {},
     "output_type": "display_data"
    },
    {
     "data": {
      "text/html": [
       "<pre>| RESET   | 13.33s       | 0.520154          | 0.721216              |             |</pre>"
      ],
      "text/plain": [
       "| RESET   | 13.33s       | 0.520154          | 0.721216              |             |"
      ]
     },
     "metadata": {},
     "output_type": "display_data"
    },
    {
     "data": {
      "text/html": [
       "<pre>| 1       | 14.72s       | 0.487209          | 0.697975              | 2.83471e-05 |</pre>"
      ],
      "text/plain": [
       "| 1       | 14.72s       | 0.487209          | 0.697975              | 2.83471e-05 |"
      ]
     },
     "metadata": {},
     "output_type": "display_data"
    },
    {
     "data": {
      "text/html": [
       "<pre>| 2       | 16.31s       | 0.469625          | 0.685237              | 2.83471e-05 |</pre>"
      ],
      "text/plain": [
       "| 2       | 16.31s       | 0.469625          | 0.685237              | 2.83471e-05 |"
      ]
     },
     "metadata": {},
     "output_type": "display_data"
    },
    {
     "data": {
      "text/html": [
       "<pre>| 3       | 17.66s       | 0.464411          | 0.681397              | 2.83471e-05 |</pre>"
      ],
      "text/plain": [
       "| 3       | 17.66s       | 0.464411          | 0.681397              | 2.83471e-05 |"
      ]
     },
     "metadata": {},
     "output_type": "display_data"
    },
    {
     "data": {
      "text/html": [
       "<pre>| 4       | 19.01s       | 0.463259          | 0.680527              | 2.83471e-05 |</pre>"
      ],
      "text/plain": [
       "| 4       | 19.01s       | 0.463259          | 0.680527              | 2.83471e-05 |"
      ]
     },
     "metadata": {},
     "output_type": "display_data"
    },
    {
     "data": {
      "text/html": [
       "<pre>| 5       | 20.27s       | 0.465545          | 0.68218               | 2.83471e-05 |</pre>"
      ],
      "text/plain": [
       "| 5       | 20.27s       | 0.465545          | 0.68218               | 2.83471e-05 |"
      ]
     },
     "metadata": {},
     "output_type": "display_data"
    },
    {
     "data": {
      "text/html": [
       "<pre>| 6       | 21.47s       | 0.470245          | 0.685593              | 2.83471e-05 |</pre>"
      ],
      "text/plain": [
       "| 6       | 21.47s       | 0.470245          | 0.685593              | 2.83471e-05 |"
      ]
     },
     "metadata": {},
     "output_type": "display_data"
    },
    {
     "data": {
      "text/html": [
       "<pre>| 7       | 22.72s       | 0.477541          | 0.69087               | 2.83471e-05 |</pre>"
      ],
      "text/plain": [
       "| 7       | 22.72s       | 0.477541          | 0.69087               | 2.83471e-05 |"
      ]
     },
     "metadata": {},
     "output_type": "display_data"
    },
    {
     "data": {
      "text/html": [
       "<pre>| 8       | 23.99s       | 0.486332          | 0.697182              | 2.83471e-05 |</pre>"
      ],
      "text/plain": [
       "| 8       | 23.99s       | 0.486332          | 0.697182              | 2.83471e-05 |"
      ]
     },
     "metadata": {},
     "output_type": "display_data"
    },
    {
     "data": {
      "text/html": [
       "<pre>| 9       | 25.25s       | 0.496575          | 0.704468              | 2.83471e-05 |</pre>"
      ],
      "text/plain": [
       "| 9       | 25.25s       | 0.496575          | 0.704468              | 2.83471e-05 |"
      ]
     },
     "metadata": {},
     "output_type": "display_data"
    },
    {
     "data": {
      "text/html": [
       "<pre>| 10      | 26.70s       | 0.507507          | 0.712164              | 2.83471e-05 |</pre>"
      ],
      "text/plain": [
       "| 10      | 26.70s       | 0.507507          | 0.712164              | 2.83471e-05 |"
      ]
     },
     "metadata": {},
     "output_type": "display_data"
    },
    {
     "data": {
      "text/html": [
       "<pre>| 11      | 28.08s       | 0.519075          | 0.720222              | 2.83471e-05 |</pre>"
      ],
      "text/plain": [
       "| 11      | 28.08s       | 0.519075          | 0.720222              | 2.83471e-05 |"
      ]
     },
     "metadata": {},
     "output_type": "display_data"
    },
    {
     "data": {
      "text/html": [
       "<pre>| 12      | 29.38s       | 0.53129           | 0.728634              | 2.83471e-05 |</pre>"
      ],
      "text/plain": [
       "| 12      | 29.38s       | 0.53129           | 0.728634              | 2.83471e-05 |"
      ]
     },
     "metadata": {},
     "output_type": "display_data"
    },
    {
     "data": {
      "text/html": [
       "<pre>| 13      | 30.69s       | 0.54425           | 0.737455              | 2.83471e-05 |</pre>"
      ],
      "text/plain": [
       "| 13      | 30.69s       | 0.54425           | 0.737455              | 2.83471e-05 |"
      ]
     },
     "metadata": {},
     "output_type": "display_data"
    },
    {
     "data": {
      "text/html": [
       "<pre>| 14      | 32.04s       | 0.557925          | 0.746652              | 2.83471e-05 |</pre>"
      ],
      "text/plain": [
       "| 14      | 32.04s       | 0.557925          | 0.746652              | 2.83471e-05 |"
      ]
     },
     "metadata": {},
     "output_type": "display_data"
    },
    {
     "data": {
      "text/html": [
       "<pre>| 15      | 33.37s       | 0.572367          | 0.756244              | 2.83471e-05 |</pre>"
      ],
      "text/plain": [
       "| 15      | 33.37s       | 0.572367          | 0.756244              | 2.83471e-05 |"
      ]
     },
     "metadata": {},
     "output_type": "display_data"
    },
    {
     "data": {
      "text/html": [
       "<pre>| 16      | 34.70s       | 0.587868          | 0.766408              | 2.83471e-05 |</pre>"
      ],
      "text/plain": [
       "| 16      | 34.70s       | 0.587868          | 0.766408              | 2.83471e-05 |"
      ]
     },
     "metadata": {},
     "output_type": "display_data"
    },
    {
     "data": {
      "text/html": [
       "<pre>| 17      | 36.39s       | DIVERGED          | DIVERGED              | 2.83471e-05 |</pre>"
      ],
      "text/plain": [
       "| 17      | 36.39s       | DIVERGED          | DIVERGED              | 2.83471e-05 |"
      ]
     },
     "metadata": {},
     "output_type": "display_data"
    },
    {
     "data": {
      "text/html": [
       "<pre>| RESET   | 36.91s       | 0.51977           | 0.72095               |             |</pre>"
      ],
      "text/plain": [
       "| RESET   | 36.91s       | 0.51977           | 0.72095               |             |"
      ]
     },
     "metadata": {},
     "output_type": "display_data"
    },
    {
     "data": {
      "text/html": [
       "<pre>| 1       | 38.17s       | 0.500684          | 0.707581              | 1.41735e-05 |</pre>"
      ],
      "text/plain": [
       "| 1       | 38.17s       | 0.500684          | 0.707581              | 1.41735e-05 |"
      ]
     },
     "metadata": {},
     "output_type": "display_data"
    },
    {
     "data": {
      "text/html": [
       "<pre>| 2       | 39.57s       | 0.487369          | 0.698102              | 1.41735e-05 |</pre>"
      ],
      "text/plain": [
       "| 2       | 39.57s       | 0.487369          | 0.698102              | 1.41735e-05 |"
      ]
     },
     "metadata": {},
     "output_type": "display_data"
    },
    {
     "data": {
      "text/html": [
       "<pre>| 3       | 40.88s       | 0.480053          | 0.692836              | 1.41735e-05 |</pre>"
      ],
      "text/plain": [
       "| 3       | 40.88s       | 0.480053          | 0.692836              | 1.41735e-05 |"
      ]
     },
     "metadata": {},
     "output_type": "display_data"
    },
    {
     "data": {
      "text/html": [
       "<pre>| 4       | 42.17s       | 0.474888          | 0.689091              | 1.41735e-05 |</pre>"
      ],
      "text/plain": [
       "| 4       | 42.17s       | 0.474888          | 0.689091              | 1.41735e-05 |"
      ]
     },
     "metadata": {},
     "output_type": "display_data"
    },
    {
     "data": {
      "text/html": [
       "<pre>| 5       | 43.40s       | 0.470923          | 0.686201              | 1.41735e-05 |</pre>"
      ],
      "text/plain": [
       "| 5       | 43.40s       | 0.470923          | 0.686201              | 1.41735e-05 |"
      ]
     },
     "metadata": {},
     "output_type": "display_data"
    },
    {
     "data": {
      "text/html": [
       "<pre>| 6       | 44.81s       | 0.467784          | 0.683903              | 1.41735e-05 |</pre>"
      ],
      "text/plain": [
       "| 6       | 44.81s       | 0.467784          | 0.683903              | 1.41735e-05 |"
      ]
     },
     "metadata": {},
     "output_type": "display_data"
    },
    {
     "data": {
      "text/html": [
       "<pre>| 7       | 46.12s       | 0.465461          | 0.682195              | 1.41735e-05 |</pre>"
      ],
      "text/plain": [
       "| 7       | 46.12s       | 0.465461          | 0.682195              | 1.41735e-05 |"
      ]
     },
     "metadata": {},
     "output_type": "display_data"
    },
    {
     "data": {
      "text/html": [
       "<pre>| 8       | 47.38s       | 0.463628          | 0.680844              | 1.41735e-05 |</pre>"
      ],
      "text/plain": [
       "| 8       | 47.38s       | 0.463628          | 0.680844              | 1.41735e-05 |"
      ]
     },
     "metadata": {},
     "output_type": "display_data"
    },
    {
     "data": {
      "text/html": [
       "<pre>| 9       | 48.63s       | 0.462336          | 0.679887              | 1.41735e-05 |</pre>"
      ],
      "text/plain": [
       "| 9       | 48.63s       | 0.462336          | 0.679887              | 1.41735e-05 |"
      ]
     },
     "metadata": {},
     "output_type": "display_data"
    },
    {
     "data": {
      "text/html": [
       "<pre>| 10      | 50.07s       | 0.461307          | 0.679122              | 1.41735e-05 |</pre>"
      ],
      "text/plain": [
       "| 10      | 50.07s       | 0.461307          | 0.679122              | 1.41735e-05 |"
      ]
     },
     "metadata": {},
     "output_type": "display_data"
    },
    {
     "data": {
      "text/html": [
       "<pre>| 11      | 51.43s       | 0.460755          | 0.678708              | 1.41735e-05 |</pre>"
      ],
      "text/plain": [
       "| 11      | 51.43s       | 0.460755          | 0.678708              | 1.41735e-05 |"
      ]
     },
     "metadata": {},
     "output_type": "display_data"
    },
    {
     "data": {
      "text/html": [
       "<pre>| 12      | 52.70s       | 0.460422          | 0.678456              | 1.41735e-05 |</pre>"
      ],
      "text/plain": [
       "| 12      | 52.70s       | 0.460422          | 0.678456              | 1.41735e-05 |"
      ]
     },
     "metadata": {},
     "output_type": "display_data"
    },
    {
     "data": {
      "text/html": [
       "<pre>| 13      | 53.99s       | 0.460636          | 0.678606              | 1.41735e-05 |</pre>"
      ],
      "text/plain": [
       "| 13      | 53.99s       | 0.460636          | 0.678606              | 1.41735e-05 |"
      ]
     },
     "metadata": {},
     "output_type": "display_data"
    },
    {
     "data": {
      "text/html": [
       "<pre>| 14      | 55.22s       | 0.46115           | 0.678978              | 1.41735e-05 |</pre>"
      ],
      "text/plain": [
       "| 14      | 55.22s       | 0.46115           | 0.678978              | 1.41735e-05 |"
      ]
     },
     "metadata": {},
     "output_type": "display_data"
    },
    {
     "data": {
      "text/html": [
       "<pre>| 15      | 56.60s       | 0.461695          | 0.679372              | 1.41735e-05 |</pre>"
      ],
      "text/plain": [
       "| 15      | 56.60s       | 0.461695          | 0.679372              | 1.41735e-05 |"
      ]
     },
     "metadata": {},
     "output_type": "display_data"
    },
    {
     "data": {
      "text/html": [
       "<pre>| 16      | 57.87s       | 0.462266          | 0.679785              | 1.41735e-05 |</pre>"
      ],
      "text/plain": [
       "| 16      | 57.87s       | 0.462266          | 0.679785              | 1.41735e-05 |"
      ]
     },
     "metadata": {},
     "output_type": "display_data"
    },
    {
     "data": {
      "text/html": [
       "<pre>| 17      | 59.07s       | 0.462832          | 0.680195              | 1.41735e-05 |</pre>"
      ],
      "text/plain": [
       "| 17      | 59.07s       | 0.462832          | 0.680195              | 1.41735e-05 |"
      ]
     },
     "metadata": {},
     "output_type": "display_data"
    },
    {
     "data": {
      "text/html": [
       "<pre>| 18      | 1m 0s        | 0.463461          | 0.68065               | 1.41735e-05 |</pre>"
      ],
      "text/plain": [
       "| 18      | 1m 0s        | 0.463461          | 0.68065               | 1.41735e-05 |"
      ]
     },
     "metadata": {},
     "output_type": "display_data"
    },
    {
     "data": {
      "text/html": [
       "<pre>| 19      | 1m 1s        | 0.464336          | 0.681285              | 1.41735e-05 |</pre>"
      ],
      "text/plain": [
       "| 19      | 1m 1s        | 0.464336          | 0.681285              | 1.41735e-05 |"
      ]
     },
     "metadata": {},
     "output_type": "display_data"
    },
    {
     "data": {
      "text/html": [
       "<pre>| 20      | 1m 2s        | 0.465513          | 0.682142              | 1.41735e-05 |</pre>"
      ],
      "text/plain": [
       "| 20      | 1m 2s        | 0.465513          | 0.682142              | 1.41735e-05 |"
      ]
     },
     "metadata": {},
     "output_type": "display_data"
    },
    {
     "data": {
      "text/html": [
       "<pre>| 21      | 1m 4s        | 0.467022          | 0.683241              | 1.41735e-05 |</pre>"
      ],
      "text/plain": [
       "| 21      | 1m 4s        | 0.467022          | 0.683241              | 1.41735e-05 |"
      ]
     },
     "metadata": {},
     "output_type": "display_data"
    },
    {
     "data": {
      "text/html": [
       "<pre>| 22      | 1m 5s        | 0.468768          | 0.68451               | 1.41735e-05 |</pre>"
      ],
      "text/plain": [
       "| 22      | 1m 5s        | 0.468768          | 0.68451               | 1.41735e-05 |"
      ]
     },
     "metadata": {},
     "output_type": "display_data"
    },
    {
     "data": {
      "text/html": [
       "<pre>| 23      | 1m 6s        | 0.470778          | 0.68597               | 1.41735e-05 |</pre>"
      ],
      "text/plain": [
       "| 23      | 1m 6s        | 0.470778          | 0.68597               | 1.41735e-05 |"
      ]
     },
     "metadata": {},
     "output_type": "display_data"
    },
    {
     "data": {
      "text/html": [
       "<pre>| 24      | 1m 8s        | 0.472796          | 0.687433              | 1.41735e-05 |</pre>"
      ],
      "text/plain": [
       "| 24      | 1m 8s        | 0.472796          | 0.687433              | 1.41735e-05 |"
      ]
     },
     "metadata": {},
     "output_type": "display_data"
    },
    {
     "data": {
      "text/html": [
       "<pre>| 25      | 1m 9s        | 0.475087          | 0.689091              | 1.41735e-05 |</pre>"
      ],
      "text/plain": [
       "| 25      | 1m 9s        | 0.475087          | 0.689091              | 1.41735e-05 |"
      ]
     },
     "metadata": {},
     "output_type": "display_data"
    },
    {
     "data": {
      "text/html": [
       "<pre>| 26      | 1m 10s       | 0.477401          | 0.690761              | 1.41735e-05 |</pre>"
      ],
      "text/plain": [
       "| 26      | 1m 10s       | 0.477401          | 0.690761              | 1.41735e-05 |"
      ]
     },
     "metadata": {},
     "output_type": "display_data"
    },
    {
     "data": {
      "text/html": [
       "<pre>| 27      | 1m 12s       | 0.479824          | 0.692506              | 1.41735e-05 |</pre>"
      ],
      "text/plain": [
       "| 27      | 1m 12s       | 0.479824          | 0.692506              | 1.41735e-05 |"
      ]
     },
     "metadata": {},
     "output_type": "display_data"
    },
    {
     "data": {
      "text/html": [
       "<pre>| 28      | 1m 13s       | 0.482359          | 0.694328              | 1.41735e-05 |</pre>"
      ],
      "text/plain": [
       "| 28      | 1m 13s       | 0.482359          | 0.694328              | 1.41735e-05 |"
      ]
     },
     "metadata": {},
     "output_type": "display_data"
    },
    {
     "data": {
      "text/html": [
       "<pre>| 29      | 1m 15s       | 0.484888          | 0.696141              | 1.41735e-05 |</pre>"
      ],
      "text/plain": [
       "| 29      | 1m 15s       | 0.484888          | 0.696141              | 1.41735e-05 |"
      ]
     },
     "metadata": {},
     "output_type": "display_data"
    },
    {
     "data": {
      "text/html": [
       "<pre>+---------+--------------+-------------------+-----------------------+-------------+</pre>"
      ],
      "text/plain": [
       "+---------+--------------+-------------------+-----------------------+-------------+"
      ]
     },
     "metadata": {},
     "output_type": "display_data"
    },
    {
     "data": {
      "text/html": [
       "<pre>Optimization Complete: Maximum number of passes through the data reached (hard limit).</pre>"
      ],
      "text/plain": [
       "Optimization Complete: Maximum number of passes through the data reached (hard limit)."
      ]
     },
     "metadata": {},
     "output_type": "display_data"
    },
    {
     "data": {
      "text/html": [
       "<pre>Computing final objective value and training RMSE.</pre>"
      ],
      "text/plain": [
       "Computing final objective value and training RMSE."
      ]
     },
     "metadata": {},
     "output_type": "display_data"
    },
    {
     "data": {
      "text/html": [
       "<pre>       Final objective value: 0.485864</pre>"
      ],
      "text/plain": [
       "       Final objective value: 0.485864"
      ]
     },
     "metadata": {},
     "output_type": "display_data"
    },
    {
     "data": {
      "text/html": [
       "<pre>       Final training RMSE: 0.696841</pre>"
      ],
      "text/plain": [
       "       Final training RMSE: 0.696841"
      ]
     },
     "metadata": {},
     "output_type": "display_data"
    }
   ],
   "source": [
    "regularization_vals = [1, .1, .01, .001]\n",
    "\n",
    "models = [gl.factorization_recommender.create(obs_data_train,\n",
    "                                user_id=\"review_profilename\",\n",
    "                                item_id=\"beer_beerid\",\n",
    "                                target=\"review_overall\",\n",
    "                                item_data=product_data_train,\n",
    "                                max_iterations=50,\n",
    "                                num_factors=5,\n",
    "                                regularization=r)\n",
    "                                              for r in regularization_vals]"
   ]
  },
  {
   "cell_type": "code",
   "execution_count": 213,
   "metadata": {
    "ExecuteTime": {
     "end_time": "2016-04-26T22:35:18.289070",
     "start_time": "2016-04-26T22:35:14.817211"
    },
    "collapsed": false
   },
   "outputs": [],
   "source": [
    "(rmse_train, rmse_test) = ([], [])\n",
    "for m in models:\n",
    "    rmse_train.append(m['training_rmse'])\n",
    "    rmse_test.append(gl.evaluation.rmse(obs_data_test['review_overall'], m.predict(obs_data_test,\n",
    "                                                                          new_item_data=product_data_test)))"
   ]
  },
  {
   "cell_type": "code",
   "execution_count": 215,
   "metadata": {
    "ExecuteTime": {
     "end_time": "2016-04-26T22:35:47.131735",
     "start_time": "2016-04-26T22:35:46.434119"
    },
    "collapsed": false
   },
   "outputs": [
    {
     "data": {
      "image/png": "[encoded data removed]",
      "text/plain": [
       "<matplotlib.figure.Figure at 0x13929f490>"
      ]
     },
     "metadata": {},
     "output_type": "display_data"
    }
   ],
   "source": [
    "(fig, ax) = plt.subplots(figsize=(10, 8))\n",
    "[p1, p2, p3] = ax.semilogx(regularization_vals, rmse_train, \n",
    "                           regularization_vals, rmse_test, \n",
    "                           regularization_vals, len(regularization_vals) * [baseline_rmse]\n",
    "                           )\n",
    "#ax.set_ylim([0.45, .7])\n",
    "ax.set_xlabel('Regularization', fontsize=20)\n",
    "ax.set_ylabel('RMSE', fontsize=20)\n",
    "ax.legend([p1, p2, p3], [\"Train\", \"Test\", \"Baseline\"])\n",
    "plt.show()"
   ]
  },
  {
   "cell_type": "code",
   "execution_count": 210,
   "metadata": {
    "ExecuteTime": {
     "end_time": "2016-04-26T22:32:25.448298",
     "start_time": "2016-04-26T22:32:25.156239"
    },
    "collapsed": false
   },
   "outputs": [],
   "source": [
    "best_model = models[2]"
   ]
  },
  {
   "cell_type": "code",
   "execution_count": 217,
   "metadata": {
    "ExecuteTime": {
     "end_time": "2016-04-26T22:39:16.238991",
     "start_time": "2016-04-26T22:39:15.512001"
    },
    "collapsed": false
   },
   "outputs": [
    {
     "name": "stdout",
     "output_type": "stream",
     "text": [
      "RMSE:  0.396524745226\n"
     ]
    }
   ],
   "source": [
    "rmse = gl.evaluation.rmse(obs_data_test['review_overall'], best_model.predict(obs_data_test, new_item_data=product_data_test))\n",
    "print 'RMSE: ', rmse"
   ]
  },
  {
   "cell_type": "code",
   "execution_count": 225,
   "metadata": {
    "ExecuteTime": {
     "end_time": "2016-04-26T23:22:08.896088",
     "start_time": "2016-04-26T23:20:04.220491"
    },
    "collapsed": false
   },
   "outputs": [],
   "source": [
    "# precision and recall\n",
    "prec_rec = best_model.evaluate_precision_recall(obs_data_test,\n",
    "                                                new_item_data=product_data_test,\n",
    "                                                cutoffs=[10],\n",
    "                                                verbose=False,\n",
    "                                                exclude_known=True)"
   ]
  },
  {
   "cell_type": "code",
   "execution_count": 227,
   "metadata": {
    "ExecuteTime": {
     "end_time": "2016-04-26T23:23:05.302287",
     "start_time": "2016-04-26T23:23:05.244264"
    },
    "collapsed": false
   },
   "outputs": [
    {
     "data": {
      "text/plain": [
       "['precision_recall_overall', 'precision_recall_by_user']"
      ]
     },
     "execution_count": 227,
     "metadata": {},
     "output_type": "execute_result"
    }
   ],
   "source": [
    "prec_rec.keys()"
   ]
  },
  {
   "cell_type": "code",
   "execution_count": 232,
   "metadata": {
    "ExecuteTime": {
     "end_time": "2016-04-26T23:25:49.179581",
     "start_time": "2016-04-26T23:25:49.018508"
    },
    "collapsed": false
   },
   "outputs": [
    {
     "data": {
      "text/html": [
       "<div style=\"max-height:1000px;max-width:1500px;overflow:auto;\"><table frame=\"box\" rules=\"cols\">\n",
       "    <tr>\n",
       "        <th style=\"padding-left: 1em; padding-right: 1em; text-align: center\">cutoff</th>\n",
       "        <th style=\"padding-left: 1em; padding-right: 1em; text-align: center\">precision</th>\n",
       "        <th style=\"padding-left: 1em; padding-right: 1em; text-align: center\">recall</th>\n",
       "    </tr>\n",
       "    <tr>\n",
       "        <td style=\"padding-left: 1em; padding-right: 1em; text-align: center; vertical-align: top\">10</td>\n",
       "        <td style=\"padding-left: 1em; padding-right: 1em; text-align: center; vertical-align: top\">0.00952207980904</td>\n",
       "        <td style=\"padding-left: 1em; padding-right: 1em; text-align: center; vertical-align: top\">0.0130254072255</td>\n",
       "    </tr>\n",
       "</table>\n",
       "[1 rows x 3 columns]<br/>\n",
       "</div>"
      ],
      "text/plain": [
       "Columns:\n",
       "\tcutoff\tint\n",
       "\tprecision\tfloat\n",
       "\trecall\tfloat\n",
       "\n",
       "Rows: 1\n",
       "\n",
       "Data:\n",
       "+--------+------------------+-----------------+\n",
       "| cutoff |    precision     |      recall     |\n",
       "+--------+------------------+-----------------+\n",
       "|   10   | 0.00952207980904 | 0.0130254072255 |\n",
       "+--------+------------------+-----------------+\n",
       "[1 rows x 3 columns]"
      ]
     },
     "execution_count": 232,
     "metadata": {},
     "output_type": "execute_result"
    }
   ],
   "source": [
    "prec_rec['precision_recall_overall']"
   ]
  },
  {
   "cell_type": "code",
   "execution_count": 237,
   "metadata": {
    "ExecuteTime": {
     "end_time": "2016-04-26T23:29:47.217667",
     "start_time": "2016-04-26T23:29:46.923138"
    },
    "collapsed": false
   },
   "outputs": [
    {
     "data": {
      "text/html": [
       "<div style=\"max-height:1000px;max-width:1500px;overflow:auto;\"><table frame=\"box\" rules=\"cols\">\n",
       "    <tr>\n",
       "        <th style=\"padding-left: 1em; padding-right: 1em; text-align: center\">review_profilename</th>\n",
       "        <th style=\"padding-left: 1em; padding-right: 1em; text-align: center\">cutoff</th>\n",
       "        <th style=\"padding-left: 1em; padding-right: 1em; text-align: center\">precision</th>\n",
       "        <th style=\"padding-left: 1em; padding-right: 1em; text-align: center\">recall</th>\n",
       "        <th style=\"padding-left: 1em; padding-right: 1em; text-align: center\">count</th>\n",
       "    </tr>\n",
       "    <tr>\n",
       "        <td style=\"padding-left: 1em; padding-right: 1em; text-align: center; vertical-align: top\">Frozensoul327</td>\n",
       "        <td style=\"padding-left: 1em; padding-right: 1em; text-align: center; vertical-align: top\">10</td>\n",
       "        <td style=\"padding-left: 1em; padding-right: 1em; text-align: center; vertical-align: top\">0.6</td>\n",
       "        <td style=\"padding-left: 1em; padding-right: 1em; text-align: center; vertical-align: top\">0.0298507462687</td>\n",
       "        <td style=\"padding-left: 1em; padding-right: 1em; text-align: center; vertical-align: top\">201</td>\n",
       "    </tr>\n",
       "    <tr>\n",
       "        <td style=\"padding-left: 1em; padding-right: 1em; text-align: center; vertical-align: top\">woodychandler</td>\n",
       "        <td style=\"padding-left: 1em; padding-right: 1em; text-align: center; vertical-align: top\">10</td>\n",
       "        <td style=\"padding-left: 1em; padding-right: 1em; text-align: center; vertical-align: top\">0.6</td>\n",
       "        <td style=\"padding-left: 1em; padding-right: 1em; text-align: center; vertical-align: top\">0.0145278450363</td>\n",
       "        <td style=\"padding-left: 1em; padding-right: 1em; text-align: center; vertical-align: top\">413</td>\n",
       "    </tr>\n",
       "    <tr>\n",
       "        <td style=\"padding-left: 1em; padding-right: 1em; text-align: center; vertical-align: top\">BuckeyeNation</td>\n",
       "        <td style=\"padding-left: 1em; padding-right: 1em; text-align: center; vertical-align: top\">10</td>\n",
       "        <td style=\"padding-left: 1em; padding-right: 1em; text-align: center; vertical-align: top\">0.6</td>\n",
       "        <td style=\"padding-left: 1em; padding-right: 1em; text-align: center; vertical-align: top\">0.00635593220339</td>\n",
       "        <td style=\"padding-left: 1em; padding-right: 1em; text-align: center; vertical-align: top\">944</td>\n",
       "    </tr>\n",
       "    <tr>\n",
       "        <td style=\"padding-left: 1em; padding-right: 1em; text-align: center; vertical-align: top\">mothman</td>\n",
       "        <td style=\"padding-left: 1em; padding-right: 1em; text-align: center; vertical-align: top\">10</td>\n",
       "        <td style=\"padding-left: 1em; padding-right: 1em; text-align: center; vertical-align: top\">0.5</td>\n",
       "        <td style=\"padding-left: 1em; padding-right: 1em; text-align: center; vertical-align: top\">0.0131233595801</td>\n",
       "        <td style=\"padding-left: 1em; padding-right: 1em; text-align: center; vertical-align: top\">381</td>\n",
       "    </tr>\n",
       "    <tr>\n",
       "        <td style=\"padding-left: 1em; padding-right: 1em; text-align: center; vertical-align: top\">Wasatch</td>\n",
       "        <td style=\"padding-left: 1em; padding-right: 1em; text-align: center; vertical-align: top\">10</td>\n",
       "        <td style=\"padding-left: 1em; padding-right: 1em; text-align: center; vertical-align: top\">0.5</td>\n",
       "        <td style=\"padding-left: 1em; padding-right: 1em; text-align: center; vertical-align: top\">0.0100401606426</td>\n",
       "        <td style=\"padding-left: 1em; padding-right: 1em; text-align: center; vertical-align: top\">498</td>\n",
       "    </tr>\n",
       "    <tr>\n",
       "        <td style=\"padding-left: 1em; padding-right: 1em; text-align: center; vertical-align: top\">JayS2629</td>\n",
       "        <td style=\"padding-left: 1em; padding-right: 1em; text-align: center; vertical-align: top\">10</td>\n",
       "        <td style=\"padding-left: 1em; padding-right: 1em; text-align: center; vertical-align: top\">0.5</td>\n",
       "        <td style=\"padding-left: 1em; padding-right: 1em; text-align: center; vertical-align: top\">0.0287356321839</td>\n",
       "        <td style=\"padding-left: 1em; padding-right: 1em; text-align: center; vertical-align: top\">174</td>\n",
       "    </tr>\n",
       "    <tr>\n",
       "        <td style=\"padding-left: 1em; padding-right: 1em; text-align: center; vertical-align: top\">tgbljb</td>\n",
       "        <td style=\"padding-left: 1em; padding-right: 1em; text-align: center; vertical-align: top\">10</td>\n",
       "        <td style=\"padding-left: 1em; padding-right: 1em; text-align: center; vertical-align: top\">0.5</td>\n",
       "        <td style=\"padding-left: 1em; padding-right: 1em; text-align: center; vertical-align: top\">0.0153374233129</td>\n",
       "        <td style=\"padding-left: 1em; padding-right: 1em; text-align: center; vertical-align: top\">326</td>\n",
       "    </tr>\n",
       "    <tr>\n",
       "        <td style=\"padding-left: 1em; padding-right: 1em; text-align: center; vertical-align: top\">TheManiacalOne</td>\n",
       "        <td style=\"padding-left: 1em; padding-right: 1em; text-align: center; vertical-align: top\">10</td>\n",
       "        <td style=\"padding-left: 1em; padding-right: 1em; text-align: center; vertical-align: top\">0.5</td>\n",
       "        <td style=\"padding-left: 1em; padding-right: 1em; text-align: center; vertical-align: top\">0.00950570342205</td>\n",
       "        <td style=\"padding-left: 1em; padding-right: 1em; text-align: center; vertical-align: top\">526</td>\n",
       "    </tr>\n",
       "    <tr>\n",
       "        <td style=\"padding-left: 1em; padding-right: 1em; text-align: center; vertical-align: top\">WVbeergeek</td>\n",
       "        <td style=\"padding-left: 1em; padding-right: 1em; text-align: center; vertical-align: top\">10</td>\n",
       "        <td style=\"padding-left: 1em; padding-right: 1em; text-align: center; vertical-align: top\">0.5</td>\n",
       "        <td style=\"padding-left: 1em; padding-right: 1em; text-align: center; vertical-align: top\">0.00954198473282</td>\n",
       "        <td style=\"padding-left: 1em; padding-right: 1em; text-align: center; vertical-align: top\">524</td>\n",
       "    </tr>\n",
       "    <tr>\n",
       "        <td style=\"padding-left: 1em; padding-right: 1em; text-align: center; vertical-align: top\">happygnome</td>\n",
       "        <td style=\"padding-left: 1em; padding-right: 1em; text-align: center; vertical-align: top\">10</td>\n",
       "        <td style=\"padding-left: 1em; padding-right: 1em; text-align: center; vertical-align: top\">0.5</td>\n",
       "        <td style=\"padding-left: 1em; padding-right: 1em; text-align: center; vertical-align: top\">0.049504950495</td>\n",
       "        <td style=\"padding-left: 1em; padding-right: 1em; text-align: center; vertical-align: top\">101</td>\n",
       "    </tr>\n",
       "</table>\n",
       "[19271 rows x 5 columns]<br/>Note: Only the head of the SFrame is printed.<br/>You can use print_rows(num_rows=m, num_columns=n) to print more rows and columns.\n",
       "</div>"
      ],
      "text/plain": [
       "Columns:\n",
       "\treview_profilename\tstr\n",
       "\tcutoff\tint\n",
       "\tprecision\tfloat\n",
       "\trecall\tfloat\n",
       "\tcount\tint\n",
       "\n",
       "Rows: 19271\n",
       "\n",
       "Data:\n",
       "+--------------------+--------+-----------+------------------+-------+\n",
       "| review_profilename | cutoff | precision |      recall      | count |\n",
       "+--------------------+--------+-----------+------------------+-------+\n",
       "|   Frozensoul327    |   10   |    0.6    | 0.0298507462687  |  201  |\n",
       "|   woodychandler    |   10   |    0.6    | 0.0145278450363  |  413  |\n",
       "|   BuckeyeNation    |   10   |    0.6    | 0.00635593220339 |  944  |\n",
       "|      mothman       |   10   |    0.5    | 0.0131233595801  |  381  |\n",
       "|      Wasatch       |   10   |    0.5    | 0.0100401606426  |  498  |\n",
       "|      JayS2629      |   10   |    0.5    | 0.0287356321839  |  174  |\n",
       "|       tgbljb       |   10   |    0.5    | 0.0153374233129  |  326  |\n",
       "|   TheManiacalOne   |   10   |    0.5    | 0.00950570342205 |  526  |\n",
       "|     WVbeergeek     |   10   |    0.5    | 0.00954198473282 |  524  |\n",
       "|     happygnome     |   10   |    0.5    |  0.049504950495  |  101  |\n",
       "+--------------------+--------+-----------+------------------+-------+\n",
       "[19271 rows x 5 columns]\n",
       "Note: Only the head of the SFrame is printed.\n",
       "You can use print_rows(num_rows=m, num_columns=n) to print more rows and columns."
      ]
     },
     "execution_count": 237,
     "metadata": {},
     "output_type": "execute_result"
    }
   ],
   "source": [
    "prec_rec['precision_recall_by_user'].sort('precision', ascending=False)"
   ]
  },
  {
   "cell_type": "code",
   "execution_count": 238,
   "metadata": {
    "ExecuteTime": {
     "end_time": "2016-04-26T23:32:03.797524",
     "start_time": "2016-04-26T23:32:03.350003"
    },
    "collapsed": false
   },
   "outputs": [
    {
     "data": {
      "text/html": [
       "<div style=\"max-height:1000px;max-width:1500px;overflow:auto;\"><table frame=\"box\" rules=\"cols\">\n",
       "    <tr>\n",
       "        <th style=\"padding-left: 1em; padding-right: 1em; text-align: center\">review_profilename</th>\n",
       "        <th style=\"padding-left: 1em; padding-right: 1em; text-align: center\">cutoff</th>\n",
       "        <th style=\"padding-left: 1em; padding-right: 1em; text-align: center\">precision</th>\n",
       "        <th style=\"padding-left: 1em; padding-right: 1em; text-align: center\">recall</th>\n",
       "        <th style=\"padding-left: 1em; padding-right: 1em; text-align: center\">count</th>\n",
       "    </tr>\n",
       "    <tr>\n",
       "        <td style=\"padding-left: 1em; padding-right: 1em; text-align: center; vertical-align: top\">jjamieson36</td>\n",
       "        <td style=\"padding-left: 1em; padding-right: 1em; text-align: center; vertical-align: top\">10</td>\n",
       "        <td style=\"padding-left: 1em; padding-right: 1em; text-align: center; vertical-align: top\">0.1</td>\n",
       "        <td style=\"padding-left: 1em; padding-right: 1em; text-align: center; vertical-align: top\">1.0</td>\n",
       "        <td style=\"padding-left: 1em; padding-right: 1em; text-align: center; vertical-align: top\">1</td>\n",
       "    </tr>\n",
       "    <tr>\n",
       "        <td style=\"padding-left: 1em; padding-right: 1em; text-align: center; vertical-align: top\">Stemm33</td>\n",
       "        <td style=\"padding-left: 1em; padding-right: 1em; text-align: center; vertical-align: top\">10</td>\n",
       "        <td style=\"padding-left: 1em; padding-right: 1em; text-align: center; vertical-align: top\">0.1</td>\n",
       "        <td style=\"padding-left: 1em; padding-right: 1em; text-align: center; vertical-align: top\">1.0</td>\n",
       "        <td style=\"padding-left: 1em; padding-right: 1em; text-align: center; vertical-align: top\">1</td>\n",
       "    </tr>\n",
       "    <tr>\n",
       "        <td style=\"padding-left: 1em; padding-right: 1em; text-align: center; vertical-align: top\">jimcmiller2003</td>\n",
       "        <td style=\"padding-left: 1em; padding-right: 1em; text-align: center; vertical-align: top\">10</td>\n",
       "        <td style=\"padding-left: 1em; padding-right: 1em; text-align: center; vertical-align: top\">0.1</td>\n",
       "        <td style=\"padding-left: 1em; padding-right: 1em; text-align: center; vertical-align: top\">1.0</td>\n",
       "        <td style=\"padding-left: 1em; padding-right: 1em; text-align: center; vertical-align: top\">1</td>\n",
       "    </tr>\n",
       "    <tr>\n",
       "        <td style=\"padding-left: 1em; padding-right: 1em; text-align: center; vertical-align: top\">About2Crash</td>\n",
       "        <td style=\"padding-left: 1em; padding-right: 1em; text-align: center; vertical-align: top\">10</td>\n",
       "        <td style=\"padding-left: 1em; padding-right: 1em; text-align: center; vertical-align: top\">0.1</td>\n",
       "        <td style=\"padding-left: 1em; padding-right: 1em; text-align: center; vertical-align: top\">1.0</td>\n",
       "        <td style=\"padding-left: 1em; padding-right: 1em; text-align: center; vertical-align: top\">1</td>\n",
       "    </tr>\n",
       "    <tr>\n",
       "        <td style=\"padding-left: 1em; padding-right: 1em; text-align: center; vertical-align: top\">Superfreak</td>\n",
       "        <td style=\"padding-left: 1em; padding-right: 1em; text-align: center; vertical-align: top\">10</td>\n",
       "        <td style=\"padding-left: 1em; padding-right: 1em; text-align: center; vertical-align: top\">0.1</td>\n",
       "        <td style=\"padding-left: 1em; padding-right: 1em; text-align: center; vertical-align: top\">1.0</td>\n",
       "        <td style=\"padding-left: 1em; padding-right: 1em; text-align: center; vertical-align: top\">1</td>\n",
       "    </tr>\n",
       "    <tr>\n",
       "        <td style=\"padding-left: 1em; padding-right: 1em; text-align: center; vertical-align: top\">jeffbrister</td>\n",
       "        <td style=\"padding-left: 1em; padding-right: 1em; text-align: center; vertical-align: top\">10</td>\n",
       "        <td style=\"padding-left: 1em; padding-right: 1em; text-align: center; vertical-align: top\">0.1</td>\n",
       "        <td style=\"padding-left: 1em; padding-right: 1em; text-align: center; vertical-align: top\">1.0</td>\n",
       "        <td style=\"padding-left: 1em; padding-right: 1em; text-align: center; vertical-align: top\">1</td>\n",
       "    </tr>\n",
       "    <tr>\n",
       "        <td style=\"padding-left: 1em; padding-right: 1em; text-align: center; vertical-align: top\">johnnybgood</td>\n",
       "        <td style=\"padding-left: 1em; padding-right: 1em; text-align: center; vertical-align: top\">10</td>\n",
       "        <td style=\"padding-left: 1em; padding-right: 1em; text-align: center; vertical-align: top\">0.1</td>\n",
       "        <td style=\"padding-left: 1em; padding-right: 1em; text-align: center; vertical-align: top\">1.0</td>\n",
       "        <td style=\"padding-left: 1em; padding-right: 1em; text-align: center; vertical-align: top\">1</td>\n",
       "    </tr>\n",
       "    <tr>\n",
       "        <td style=\"padding-left: 1em; padding-right: 1em; text-align: center; vertical-align: top\">joshmkelly</td>\n",
       "        <td style=\"padding-left: 1em; padding-right: 1em; text-align: center; vertical-align: top\">10</td>\n",
       "        <td style=\"padding-left: 1em; padding-right: 1em; text-align: center; vertical-align: top\">0.1</td>\n",
       "        <td style=\"padding-left: 1em; padding-right: 1em; text-align: center; vertical-align: top\">1.0</td>\n",
       "        <td style=\"padding-left: 1em; padding-right: 1em; text-align: center; vertical-align: top\">1</td>\n",
       "    </tr>\n",
       "    <tr>\n",
       "        <td style=\"padding-left: 1em; padding-right: 1em; text-align: center; vertical-align: top\">SilverJew</td>\n",
       "        <td style=\"padding-left: 1em; padding-right: 1em; text-align: center; vertical-align: top\">10</td>\n",
       "        <td style=\"padding-left: 1em; padding-right: 1em; text-align: center; vertical-align: top\">0.1</td>\n",
       "        <td style=\"padding-left: 1em; padding-right: 1em; text-align: center; vertical-align: top\">1.0</td>\n",
       "        <td style=\"padding-left: 1em; padding-right: 1em; text-align: center; vertical-align: top\">1</td>\n",
       "    </tr>\n",
       "    <tr>\n",
       "        <td style=\"padding-left: 1em; padding-right: 1em; text-align: center; vertical-align: top\">Shearwater</td>\n",
       "        <td style=\"padding-left: 1em; padding-right: 1em; text-align: center; vertical-align: top\">10</td>\n",
       "        <td style=\"padding-left: 1em; padding-right: 1em; text-align: center; vertical-align: top\">0.1</td>\n",
       "        <td style=\"padding-left: 1em; padding-right: 1em; text-align: center; vertical-align: top\">1.0</td>\n",
       "        <td style=\"padding-left: 1em; padding-right: 1em; text-align: center; vertical-align: top\">1</td>\n",
       "    </tr>\n",
       "</table>\n",
       "[19271 rows x 5 columns]<br/>Note: Only the head of the SFrame is printed.<br/>You can use print_rows(num_rows=m, num_columns=n) to print more rows and columns.\n",
       "</div>"
      ],
      "text/plain": [
       "Columns:\n",
       "\treview_profilename\tstr\n",
       "\tcutoff\tint\n",
       "\tprecision\tfloat\n",
       "\trecall\tfloat\n",
       "\tcount\tint\n",
       "\n",
       "Rows: 19271\n",
       "\n",
       "Data:\n",
       "+--------------------+--------+-----------+--------+-------+\n",
       "| review_profilename | cutoff | precision | recall | count |\n",
       "+--------------------+--------+-----------+--------+-------+\n",
       "|    jjamieson36     |   10   |    0.1    |  1.0   |   1   |\n",
       "|      Stemm33       |   10   |    0.1    |  1.0   |   1   |\n",
       "|   jimcmiller2003   |   10   |    0.1    |  1.0   |   1   |\n",
       "|    About2Crash     |   10   |    0.1    |  1.0   |   1   |\n",
       "|     Superfreak     |   10   |    0.1    |  1.0   |   1   |\n",
       "|    jeffbrister     |   10   |    0.1    |  1.0   |   1   |\n",
       "|    johnnybgood     |   10   |    0.1    |  1.0   |   1   |\n",
       "|     joshmkelly     |   10   |    0.1    |  1.0   |   1   |\n",
       "|     SilverJew      |   10   |    0.1    |  1.0   |   1   |\n",
       "|     Shearwater     |   10   |    0.1    |  1.0   |   1   |\n",
       "+--------------------+--------+-----------+--------+-------+\n",
       "[19271 rows x 5 columns]\n",
       "Note: Only the head of the SFrame is printed.\n",
       "You can use print_rows(num_rows=m, num_columns=n) to print more rows and columns."
      ]
     },
     "execution_count": 238,
     "metadata": {},
     "output_type": "execute_result"
    }
   ],
   "source": [
    "prec_rec['precision_recall_by_user'].sort('recall', ascending=False)"
   ]
  }
 ],
 "metadata": {
  "kernelspec": {
   "display_name": "Python 2",
   "language": "python",
   "name": "python2"
  },
  "language_info": {
   "codemirror_mode": {
    "name": "ipython",
    "version": 2
   },
   "file_extension": ".py",
   "mimetype": "text/x-python",
   "name": "python",
   "nbconvert_exporter": "python",
   "pygments_lexer": "ipython2",
   "version": "2.7.11"
  }
 },
 "nbformat": 4,
 "nbformat_minor": 0
}
