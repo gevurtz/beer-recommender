{
 "cells": [
  {
   "cell_type": "code",
   "execution_count": 1,
   "metadata": {
    "ExecuteTime": {
     "end_time": "2016-05-11T17:18:22.545836",
     "start_time": "2016-05-11T17:18:21.748329"
    },
    "collapsed": true
   },
   "outputs": [],
   "source": [
    "import pandas as pd"
   ]
  },
  {
   "cell_type": "code",
   "execution_count": 2,
   "metadata": {
    "ExecuteTime": {
     "end_time": "2016-05-11T17:19:49.823677",
     "start_time": "2016-05-11T17:19:49.795580"
    },
    "collapsed": true
   },
   "outputs": [],
   "source": [
    "filepath = '/Users/Gevurtz/galvanize/beer_rec_project/beer-recommender/beer-recommender/data/data.csv'"
   ]
  },
  {
   "cell_type": "code",
   "execution_count": 3,
   "metadata": {
    "ExecuteTime": {
     "end_time": "2016-05-11T17:20:08.198271",
     "start_time": "2016-05-11T17:19:50.866513"
    },
    "collapsed": true
   },
   "outputs": [],
   "source": [
    "data = pd.read_csv(filepath)"
   ]
  },
  {
   "cell_type": "code",
   "execution_count": 4,
   "metadata": {
    "ExecuteTime": {
     "end_time": "2016-05-11T17:20:16.989621",
     "start_time": "2016-05-11T17:20:16.908451"
    },
    "collapsed": false
   },
   "outputs": [
    {
     "data": {
      "text/html": [
       "<div>\n",
       "<table border=\"1\" class=\"dataframe\">\n",
       "  <thead>\n",
       "    <tr style=\"text-align: right;\">\n",
       "      <th></th>\n",
       "      <th>[_id</th>\n",
       "      <th>username</th>\n",
       "      <th>beerid</th>\n",
       "      <th>breweryname</th>\n",
       "      <th>taste</th>\n",
       "      <th>userid</th>\n",
       "      <th>beername</th>\n",
       "      <th>overall</th>\n",
       "      <th>beerurl</th>\n",
       "      <th>aroma</th>\n",
       "      <th>palate</th>\n",
       "      <th>style</th>\n",
       "      <th>appearance</th>\n",
       "      <th>brewid</th>\n",
       "      <th>text</th>\n",
       "      <th>brewurl]</th>\n",
       "    </tr>\n",
       "  </thead>\n",
       "  <tbody>\n",
       "    <tr>\n",
       "      <th>0</th>\n",
       "      <td>NaN</td>\n",
       "      <td>bulldogops</td>\n",
       "      <td>327869</td>\n",
       "      <td>10 Barrel Brewing (AB InBev)</td>\n",
       "      <td>4</td>\n",
       "      <td>93397</td>\n",
       "      <td>10 Barrel / Elysian Collaborita</td>\n",
       "      <td>12</td>\n",
       "      <td>http://www.ratebeer.com/beer/10-barrel--elysia...</td>\n",
       "      <td>7</td>\n",
       "      <td>2</td>\n",
       "      <td>India Pale Ale (IPA)</td>\n",
       "      <td>4</td>\n",
       "      <td>9667</td>\n",
       "      <td>rating 1663  cbc2015 beer 48  day 4  on tap at...</td>\n",
       "      <td>NaN</td>\n",
       "    </tr>\n",
       "    <tr>\n",
       "      <th>1</th>\n",
       "      <td>NaN</td>\n",
       "      <td>Ferris</td>\n",
       "      <td>327869</td>\n",
       "      <td>10 Barrel Brewing (AB InBev)</td>\n",
       "      <td>6</td>\n",
       "      <td>162228</td>\n",
       "      <td>10 Barrel / Elysian Collaborita</td>\n",
       "      <td>13</td>\n",
       "      <td>http://www.ratebeer.com/beer/10-barrel--elysia...</td>\n",
       "      <td>7</td>\n",
       "      <td>3</td>\n",
       "      <td>India Pale Ale (IPA)</td>\n",
       "      <td>3</td>\n",
       "      <td>9667</td>\n",
       "      <td>draft  peach and spice cloudy yellow gold with...</td>\n",
       "      <td>NaN</td>\n",
       "    </tr>\n",
       "    <tr>\n",
       "      <th>2</th>\n",
       "      <td>NaN</td>\n",
       "      <td>5000</td>\n",
       "      <td>239419</td>\n",
       "      <td>10 Barrel Brewing (AB InBev)</td>\n",
       "      <td>6</td>\n",
       "      <td>8017</td>\n",
       "      <td>10 Barrel / Hop Valley 86′D India Pale Ale</td>\n",
       "      <td>13</td>\n",
       "      <td>http://www.ratebeer.com/beer/10-barrel--hop-va...</td>\n",
       "      <td>7</td>\n",
       "      <td>4</td>\n",
       "      <td>India Pale Ale (IPA)</td>\n",
       "      <td>3</td>\n",
       "      <td>9667</td>\n",
       "      <td>bottle nbsp very much a tangerine and satsuma ...</td>\n",
       "      <td>NaN</td>\n",
       "    </tr>\n",
       "    <tr>\n",
       "      <th>3</th>\n",
       "      <td>NaN</td>\n",
       "      <td>BK7</td>\n",
       "      <td>239419</td>\n",
       "      <td>10 Barrel Brewing (AB InBev)</td>\n",
       "      <td>9</td>\n",
       "      <td>125515</td>\n",
       "      <td>10 Barrel / Hop Valley 86′D India Pale Ale</td>\n",
       "      <td>18</td>\n",
       "      <td>http://www.ratebeer.com/beer/10-barrel--hop-va...</td>\n",
       "      <td>5</td>\n",
       "      <td>3</td>\n",
       "      <td>India Pale Ale (IPA)</td>\n",
       "      <td>3</td>\n",
       "      <td>9667</td>\n",
       "      <td>bomber citrus and pine with a nice bitter bite...</td>\n",
       "      <td>NaN</td>\n",
       "    </tr>\n",
       "    <tr>\n",
       "      <th>4</th>\n",
       "      <td>NaN</td>\n",
       "      <td>Bule</td>\n",
       "      <td>239419</td>\n",
       "      <td>10 Barrel Brewing (AB InBev)</td>\n",
       "      <td>8</td>\n",
       "      <td>58256</td>\n",
       "      <td>10 Barrel / Hop Valley 86′D India Pale Ale</td>\n",
       "      <td>15</td>\n",
       "      <td>http://www.ratebeer.com/beer/10-barrel--hop-va...</td>\n",
       "      <td>7</td>\n",
       "      <td>4</td>\n",
       "      <td>India Pale Ale (IPA)</td>\n",
       "      <td>4</td>\n",
       "      <td>9667</td>\n",
       "      <td>650ml bottle pours a hazy amber color with a b...</td>\n",
       "      <td>NaN</td>\n",
       "    </tr>\n",
       "  </tbody>\n",
       "</table>\n",
       "</div>"
      ],
      "text/plain": [
       "   [_id    username  beerid                   breweryname  taste  userid  \\\n",
       "0   NaN  bulldogops  327869  10 Barrel Brewing (AB InBev)      4   93397   \n",
       "1   NaN      Ferris  327869  10 Barrel Brewing (AB InBev)      6  162228   \n",
       "2   NaN        5000  239419  10 Barrel Brewing (AB InBev)      6    8017   \n",
       "3   NaN         BK7  239419  10 Barrel Brewing (AB InBev)      9  125515   \n",
       "4   NaN        Bule  239419  10 Barrel Brewing (AB InBev)      8   58256   \n",
       "\n",
       "                                     beername  overall  \\\n",
       "0             10 Barrel / Elysian Collaborita       12   \n",
       "1             10 Barrel / Elysian Collaborita       13   \n",
       "2  10 Barrel / Hop Valley 86′D India Pale Ale       13   \n",
       "3  10 Barrel / Hop Valley 86′D India Pale Ale       18   \n",
       "4  10 Barrel / Hop Valley 86′D India Pale Ale       15   \n",
       "\n",
       "                                             beerurl  aroma  palate  \\\n",
       "0  http://www.ratebeer.com/beer/10-barrel--elysia...      7       2   \n",
       "1  http://www.ratebeer.com/beer/10-barrel--elysia...      7       3   \n",
       "2  http://www.ratebeer.com/beer/10-barrel--hop-va...      7       4   \n",
       "3  http://www.ratebeer.com/beer/10-barrel--hop-va...      5       3   \n",
       "4  http://www.ratebeer.com/beer/10-barrel--hop-va...      7       4   \n",
       "\n",
       "                  style  appearance  brewid  \\\n",
       "0  India Pale Ale (IPA)           4    9667   \n",
       "1  India Pale Ale (IPA)           3    9667   \n",
       "2  India Pale Ale (IPA)           3    9667   \n",
       "3  India Pale Ale (IPA)           3    9667   \n",
       "4  India Pale Ale (IPA)           4    9667   \n",
       "\n",
       "                                                text  brewurl]  \n",
       "0  rating 1663  cbc2015 beer 48  day 4  on tap at...       NaN  \n",
       "1  draft  peach and spice cloudy yellow gold with...       NaN  \n",
       "2  bottle nbsp very much a tangerine and satsuma ...       NaN  \n",
       "3  bomber citrus and pine with a nice bitter bite...       NaN  \n",
       "4  650ml bottle pours a hazy amber color with a b...       NaN  "
      ]
     },
     "execution_count": 4,
     "metadata": {},
     "output_type": "execute_result"
    }
   ],
   "source": [
    "data.head()"
   ]
  },
  {
   "cell_type": "code",
   "execution_count": 5,
   "metadata": {
    "ExecuteTime": {
     "end_time": "2016-05-11T17:21:00.059566",
     "start_time": "2016-05-11T17:21:00.014231"
    },
    "collapsed": false
   },
   "outputs": [
    {
     "name": "stdout",
     "output_type": "stream",
     "text": [
      "<class 'pandas.core.frame.DataFrame'>\n",
      "Int64Index: 2760003 entries, 0 to 2760002\n",
      "Data columns (total 16 columns):\n",
      "[_id           float64\n",
      "username       object\n",
      "beerid         int64\n",
      "breweryname    object\n",
      "taste          int64\n",
      "userid         int64\n",
      "beername       object\n",
      "overall        int64\n",
      "beerurl        object\n",
      "aroma          int64\n",
      "palate         int64\n",
      "style          object\n",
      "appearance     int64\n",
      "brewid         int64\n",
      "text           object\n",
      "brewurl]       float64\n",
      "dtypes: float64(2), int64(8), object(6)\n",
      "memory usage: 358.0+ MB\n"
     ]
    }
   ],
   "source": [
    "data.info()"
   ]
  },
  {
   "cell_type": "code",
   "execution_count": 6,
   "metadata": {
    "ExecuteTime": {
     "end_time": "2016-05-11T17:22:00.806864",
     "start_time": "2016-05-11T17:22:00.772050"
    },
    "collapsed": false
   },
   "outputs": [
    {
     "data": {
      "text/plain": [
       "13.05802348765563"
      ]
     },
     "execution_count": 6,
     "metadata": {},
     "output_type": "execute_result"
    }
   ],
   "source": [
    "data.overall.mean()"
   ]
  },
  {
   "cell_type": "code",
   "execution_count": 7,
   "metadata": {
    "ExecuteTime": {
     "end_time": "2016-05-11T17:22:09.665623",
     "start_time": "2016-05-11T17:22:09.637509"
    },
    "collapsed": false
   },
   "outputs": [
    {
     "data": {
      "text/plain": [
       "2760003"
      ]
     },
     "execution_count": 7,
     "metadata": {},
     "output_type": "execute_result"
    }
   ],
   "source": [
    "len(data)"
   ]
  },
  {
   "cell_type": "code",
   "execution_count": 9,
   "metadata": {
    "ExecuteTime": {
     "end_time": "2016-05-11T17:23:10.652091",
     "start_time": "2016-05-11T17:23:10.592284"
    },
    "collapsed": true
   },
   "outputs": [],
   "source": [
    "import matplotlib.pyplot as plt\n",
    "%matplotlib inline"
   ]
  },
  {
   "cell_type": "code",
   "execution_count": 12,
   "metadata": {
    "ExecuteTime": {
     "end_time": "2016-05-11T17:24:07.908415",
     "start_time": "2016-05-11T17:24:07.469803"
    },
    "collapsed": false
   },
   "outputs": [
    {
     "data": {
      "text/plain": [
       "<matplotlib.axes._subplots.AxesSubplot at 0x106a23550>"
      ]
     },
     "execution_count": 12,
     "metadata": {},
     "output_type": "execute_result"
    },
    {
     "data": {
      "image/png": "[encoded data removed]",
      "text/plain": [
       "<matplotlib.figure.Figure at 0x106c6d450>"
      ]
     },
     "metadata": {},
     "output_type": "display_data"
    }
   ],
   "source": [
    "data.overall.hist(bins=20)"
   ]
  },
  {
   "cell_type": "code",
   "execution_count": 11,
   "metadata": {
    "ExecuteTime": {
     "end_time": "2016-05-11T17:23:46.383983",
     "start_time": "2016-05-11T17:23:46.351094"
    },
    "collapsed": false
   },
   "outputs": [
    {
     "data": {
      "text/plain": [
       "1"
      ]
     },
     "execution_count": 11,
     "metadata": {},
     "output_type": "execute_result"
    }
   ],
   "source": [
    "data.overall.min()"
   ]
  },
  {
   "cell_type": "code",
   "execution_count": 14,
   "metadata": {
    "ExecuteTime": {
     "end_time": "2016-05-11T17:28:13.962812",
     "start_time": "2016-05-11T17:28:13.559569"
    },
    "collapsed": false
   },
   "outputs": [
    {
     "data": {
      "text/plain": [
       "16571"
      ]
     },
     "execution_count": 14,
     "metadata": {},
     "output_type": "execute_result"
    }
   ],
   "source": [
    "len(data.username.unique())"
   ]
  },
  {
   "cell_type": "code",
   "execution_count": 41,
   "metadata": {
    "ExecuteTime": {
     "end_time": "2016-05-11T17:52:08.890427",
     "start_time": "2016-05-11T17:52:08.469715"
    },
    "collapsed": false
   },
   "outputs": [
    {
     "data": {
      "text/plain": [
       "858"
      ]
     },
     "execution_count": 41,
     "metadata": {},
     "output_type": "execute_result"
    }
   ],
   "source": [
    "len(data[data['username']=='DocJitsu'])"
   ]
  },
  {
   "cell_type": "code",
   "execution_count": 33,
   "metadata": {
    "ExecuteTime": {
     "end_time": "2016-05-11T17:43:49.345339",
     "start_time": "2016-05-11T17:43:49.035793"
    },
    "collapsed": false
   },
   "outputs": [],
   "source": [
    "rev_count = pd.Series(data.userid.groupby(data['username']).count().values)"
   ]
  },
  {
   "cell_type": "code",
   "execution_count": 40,
   "metadata": {
    "ExecuteTime": {
     "end_time": "2016-05-11T17:46:39.031617",
     "start_time": "2016-05-11T17:46:38.311931"
    },
    "collapsed": false
   },
   "outputs": [
    {
     "data": {
      "text/plain": [
       "<matplotlib.axes._subplots.AxesSubplot at 0x10c1634d0>"
      ]
     },
     "execution_count": 40,
     "metadata": {},
     "output_type": "execute_result"
    },
    {
     "data": {
      "image/png": "[encoded data removed]",
      "text/plain": [
       "<matplotlib.figure.Figure at 0x1103f6690>"
      ]
     },
     "metadata": {},
     "output_type": "display_data"
    }
   ],
   "source": [
    "rev_count[rev_count < 100].hist(bins=100)"
   ]
  },
  {
   "cell_type": "code",
   "execution_count": 63,
   "metadata": {
    "ExecuteTime": {
     "end_time": "2016-05-11T18:15:16.835315",
     "start_time": "2016-05-11T18:15:16.775428"
    },
    "collapsed": false
   },
   "outputs": [
    {
     "data": {
      "text/plain": [
       "10090"
      ]
     },
     "execution_count": 63,
     "metadata": {},
     "output_type": "execute_result"
    }
   ],
   "source": [
    "len(data['brewid'].unique())"
   ]
  },
  {
   "cell_type": "code",
   "execution_count": 83,
   "metadata": {
    "ExecuteTime": {
     "end_time": "2016-05-11T19:09:11.605438",
     "start_time": "2016-05-11T19:07:35.399830"
    },
    "collapsed": false
   },
   "outputs": [],
   "source": [
    "rev_beer = pd.Series(data.beername.groupby(data['beername']))"
   ]
  },
  {
   "cell_type": "code",
   "execution_count": 82,
   "metadata": {
    "ExecuteTime": {
     "end_time": "2016-05-11T19:07:23.068725",
     "start_time": "2016-05-11T19:07:23.040218"
    },
    "collapsed": false
   },
   "outputs": [
    {
     "data": {
      "text/plain": [
       "133404"
      ]
     },
     "execution_count": 82,
     "metadata": {},
     "output_type": "execute_result"
    }
   ],
   "source": [
    "rev_beer"
   ]
  },
  {
   "cell_type": "code",
   "execution_count": 75,
   "metadata": {
    "ExecuteTime": {
     "end_time": "2016-05-11T19:03:44.142162",
     "start_time": "2016-05-11T19:03:44.101691"
    },
    "collapsed": false
   },
   "outputs": [
    {
     "data": {
      "text/plain": [
       "8748      7266\n",
       "33369     4600\n",
       "64098     4562\n",
       "42617     4540\n",
       "102714    4260\n",
       "124706    4176\n",
       "98127     4070\n",
       "14349     3878\n",
       "109362    3854\n",
       "96990     3720\n",
       "64291     3670\n",
       "5789      3660\n",
       "106949    3640\n",
       "8895      3560\n",
       "33367     3550\n",
       "7308      3420\n",
       "42615     3420\n",
       "33372     3410\n",
       "121963    3360\n",
       "26461     3360\n",
       "120301    3310\n",
       "103024    3281\n",
       "132480    3270\n",
       "131518    3210\n",
       "50631     3108\n",
       "53675     3100\n",
       "132273    3050\n",
       "22462     3041\n",
       "96596     3007\n",
       "106030    3001\n",
       "          ... \n",
       "130388       1\n",
       "15703        1\n",
       "119549       1\n",
       "119550       1\n",
       "15716        1\n",
       "119551       1\n",
       "119552       1\n",
       "15704        1\n",
       "119774       1\n",
       "130314       1\n",
       "15324        1\n",
       "119546       1\n",
       "15717        1\n",
       "119557       1\n",
       "119614       1\n",
       "119558       1\n",
       "119561       1\n",
       "130350       1\n",
       "130349       1\n",
       "119554       1\n",
       "3228         1\n",
       "119620       1\n",
       "119548       1\n",
       "15672        1\n",
       "15671        1\n",
       "15670        1\n",
       "130383       1\n",
       "15699        1\n",
       "119545       1\n",
       "66701        1\n",
       "dtype: int64"
      ]
     },
     "execution_count": 75,
     "metadata": {},
     "output_type": "execute_result"
    }
   ],
   "source": []
  },
  {
   "cell_type": "code",
   "execution_count": null,
   "metadata": {
    "collapsed": true
   },
   "outputs": [],
   "source": []
  }
 ],
 "metadata": {
  "kernelspec": {
   "display_name": "Python 2",
   "language": "python",
   "name": "python2"
  },
  "language_info": {
   "codemirror_mode": {
    "name": "ipython",
    "version": 2
   },
   "file_extension": ".py",
   "mimetype": "text/x-python",
   "name": "python",
   "nbconvert_exporter": "python",
   "pygments_lexer": "ipython2",
   "version": "2.7.11"
  }
 },
 "nbformat": 4,
 "nbformat_minor": 0
}
